{
 "cells": [
  {
   "cell_type": "code",
   "execution_count": 1,
   "id": "cbf12061",
   "metadata": {},
   "outputs": [],
   "source": [
    "# Importiang all necessary Libaries: Data Science Packages\n",
    "\n",
    "import numpy as np # numpy used for mathematical operation on array\n",
    "import pandas as pd  # pandas used for data manipulation on dataframe\n",
    "import seaborn as sns # seaborn used for data visualization\n",
    "import matplotlib.pyplot as plt # matplotlib used for data visualization\n",
    "import warnings\n",
    "warnings.filterwarnings('ignore')"
   ]
  },
  {
   "cell_type": "code",
   "execution_count": 2,
   "id": "962a5563",
   "metadata": {},
   "outputs": [
    {
     "data": {
      "text/html": [
       "<div>\n",
       "<style scoped>\n",
       "    .dataframe tbody tr th:only-of-type {\n",
       "        vertical-align: middle;\n",
       "    }\n",
       "\n",
       "    .dataframe tbody tr th {\n",
       "        vertical-align: top;\n",
       "    }\n",
       "\n",
       "    .dataframe thead th {\n",
       "        text-align: right;\n",
       "    }\n",
       "</style>\n",
       "<table border=\"1\" class=\"dataframe\">\n",
       "  <thead>\n",
       "    <tr style=\"text-align: right;\">\n",
       "      <th></th>\n",
       "      <th>Make</th>\n",
       "      <th>Model</th>\n",
       "      <th>Year</th>\n",
       "      <th>Engine Fuel Type</th>\n",
       "      <th>Engine HP</th>\n",
       "      <th>Engine Cylinders</th>\n",
       "      <th>Transmission Type</th>\n",
       "      <th>Driven_Wheels</th>\n",
       "      <th>Number of Doors</th>\n",
       "      <th>Market Category</th>\n",
       "      <th>Vehicle Size</th>\n",
       "      <th>Vehicle Style</th>\n",
       "      <th>highway MPG</th>\n",
       "      <th>city mpg</th>\n",
       "      <th>Popularity</th>\n",
       "      <th>MSRP</th>\n",
       "    </tr>\n",
       "  </thead>\n",
       "  <tbody>\n",
       "    <tr>\n",
       "      <th>0</th>\n",
       "      <td>BMW</td>\n",
       "      <td>1 Series M</td>\n",
       "      <td>2011</td>\n",
       "      <td>premium unleaded (required)</td>\n",
       "      <td>335.0</td>\n",
       "      <td>6.0</td>\n",
       "      <td>MANUAL</td>\n",
       "      <td>rear wheel drive</td>\n",
       "      <td>2.0</td>\n",
       "      <td>Factory Tuner,Luxury,High-Performance</td>\n",
       "      <td>Compact</td>\n",
       "      <td>Coupe</td>\n",
       "      <td>26</td>\n",
       "      <td>19</td>\n",
       "      <td>3916</td>\n",
       "      <td>46135</td>\n",
       "    </tr>\n",
       "    <tr>\n",
       "      <th>1</th>\n",
       "      <td>BMW</td>\n",
       "      <td>1 Series</td>\n",
       "      <td>2011</td>\n",
       "      <td>premium unleaded (required)</td>\n",
       "      <td>300.0</td>\n",
       "      <td>6.0</td>\n",
       "      <td>MANUAL</td>\n",
       "      <td>rear wheel drive</td>\n",
       "      <td>2.0</td>\n",
       "      <td>Luxury,Performance</td>\n",
       "      <td>Compact</td>\n",
       "      <td>Convertible</td>\n",
       "      <td>28</td>\n",
       "      <td>19</td>\n",
       "      <td>3916</td>\n",
       "      <td>40650</td>\n",
       "    </tr>\n",
       "    <tr>\n",
       "      <th>2</th>\n",
       "      <td>BMW</td>\n",
       "      <td>1 Series</td>\n",
       "      <td>2011</td>\n",
       "      <td>premium unleaded (required)</td>\n",
       "      <td>300.0</td>\n",
       "      <td>6.0</td>\n",
       "      <td>MANUAL</td>\n",
       "      <td>rear wheel drive</td>\n",
       "      <td>2.0</td>\n",
       "      <td>Luxury,High-Performance</td>\n",
       "      <td>Compact</td>\n",
       "      <td>Coupe</td>\n",
       "      <td>28</td>\n",
       "      <td>20</td>\n",
       "      <td>3916</td>\n",
       "      <td>36350</td>\n",
       "    </tr>\n",
       "    <tr>\n",
       "      <th>3</th>\n",
       "      <td>BMW</td>\n",
       "      <td>1 Series</td>\n",
       "      <td>2011</td>\n",
       "      <td>premium unleaded (required)</td>\n",
       "      <td>230.0</td>\n",
       "      <td>6.0</td>\n",
       "      <td>MANUAL</td>\n",
       "      <td>rear wheel drive</td>\n",
       "      <td>2.0</td>\n",
       "      <td>Luxury,Performance</td>\n",
       "      <td>Compact</td>\n",
       "      <td>Coupe</td>\n",
       "      <td>28</td>\n",
       "      <td>18</td>\n",
       "      <td>3916</td>\n",
       "      <td>29450</td>\n",
       "    </tr>\n",
       "    <tr>\n",
       "      <th>4</th>\n",
       "      <td>BMW</td>\n",
       "      <td>1 Series</td>\n",
       "      <td>2011</td>\n",
       "      <td>premium unleaded (required)</td>\n",
       "      <td>230.0</td>\n",
       "      <td>6.0</td>\n",
       "      <td>MANUAL</td>\n",
       "      <td>rear wheel drive</td>\n",
       "      <td>2.0</td>\n",
       "      <td>Luxury</td>\n",
       "      <td>Compact</td>\n",
       "      <td>Convertible</td>\n",
       "      <td>28</td>\n",
       "      <td>18</td>\n",
       "      <td>3916</td>\n",
       "      <td>34500</td>\n",
       "    </tr>\n",
       "  </tbody>\n",
       "</table>\n",
       "</div>"
      ],
      "text/plain": [
       "  Make       Model  Year             Engine Fuel Type  Engine HP  \\\n",
       "0  BMW  1 Series M  2011  premium unleaded (required)      335.0   \n",
       "1  BMW    1 Series  2011  premium unleaded (required)      300.0   \n",
       "2  BMW    1 Series  2011  premium unleaded (required)      300.0   \n",
       "3  BMW    1 Series  2011  premium unleaded (required)      230.0   \n",
       "4  BMW    1 Series  2011  premium unleaded (required)      230.0   \n",
       "\n",
       "   Engine Cylinders Transmission Type     Driven_Wheels  Number of Doors  \\\n",
       "0               6.0            MANUAL  rear wheel drive              2.0   \n",
       "1               6.0            MANUAL  rear wheel drive              2.0   \n",
       "2               6.0            MANUAL  rear wheel drive              2.0   \n",
       "3               6.0            MANUAL  rear wheel drive              2.0   \n",
       "4               6.0            MANUAL  rear wheel drive              2.0   \n",
       "\n",
       "                         Market Category Vehicle Size Vehicle Style  \\\n",
       "0  Factory Tuner,Luxury,High-Performance      Compact         Coupe   \n",
       "1                     Luxury,Performance      Compact   Convertible   \n",
       "2                Luxury,High-Performance      Compact         Coupe   \n",
       "3                     Luxury,Performance      Compact         Coupe   \n",
       "4                                 Luxury      Compact   Convertible   \n",
       "\n",
       "   highway MPG  city mpg  Popularity   MSRP  \n",
       "0           26        19        3916  46135  \n",
       "1           28        19        3916  40650  \n",
       "2           28        20        3916  36350  \n",
       "3           28        18        3916  29450  \n",
       "4           28        18        3916  34500  "
      ]
     },
     "execution_count": 2,
     "metadata": {},
     "output_type": "execute_result"
    }
   ],
   "source": [
    "# Read the data with pandas\n",
    "# Reading first 10 Rows of the data\n",
    "df = pd.read_csv(\"C:/Users/csc/OneDrive/Desktop/CHAID/WEEK 2/data.csv\", header=0)\n",
    "df.head()"
   ]
  },
  {
   "cell_type": "code",
   "execution_count": 3,
   "id": "ae2ef37f",
   "metadata": {},
   "outputs": [
    {
     "data": {
      "text/plain": [
       "(11914, 16)"
      ]
     },
     "execution_count": 3,
     "metadata": {},
     "output_type": "execute_result"
    }
   ],
   "source": [
    "# Checking the shape of the data\n",
    "df.shape"
   ]
  },
  {
   "cell_type": "code",
   "execution_count": 4,
   "id": "bd96e9e9",
   "metadata": {},
   "outputs": [
    {
     "data": {
      "text/plain": [
       "Make                  object\n",
       "Model                 object\n",
       "Year                   int64\n",
       "Engine Fuel Type      object\n",
       "Engine HP            float64\n",
       "Engine Cylinders     float64\n",
       "Transmission Type     object\n",
       "Driven_Wheels         object\n",
       "Number of Doors      float64\n",
       "Market Category       object\n",
       "Vehicle Size          object\n",
       "Vehicle Style         object\n",
       "highway MPG            int64\n",
       "city mpg               int64\n",
       "Popularity             int64\n",
       "MSRP                   int64\n",
       "dtype: object"
      ]
     },
     "execution_count": 4,
     "metadata": {},
     "output_type": "execute_result"
    }
   ],
   "source": [
    "# Checking the data types of the attributes\n",
    "df.dtypes"
   ]
  },
  {
   "cell_type": "code",
   "execution_count": 5,
   "id": "ad6516f4",
   "metadata": {},
   "outputs": [
    {
     "data": {
      "text/plain": [
       "Market Category      3742\n",
       "Engine HP              69\n",
       "Engine Cylinders       30\n",
       "Number of Doors         6\n",
       "Engine Fuel Type        3\n",
       "Make                    0\n",
       "Model                   0\n",
       "Year                    0\n",
       "Transmission Type       0\n",
       "Driven_Wheels           0\n",
       "Vehicle Size            0\n",
       "Vehicle Style           0\n",
       "highway MPG             0\n",
       "city mpg                0\n",
       "Popularity              0\n",
       "MSRP                    0\n",
       "dtype: int64"
      ]
     },
     "execution_count": 5,
     "metadata": {},
     "output_type": "execute_result"
    }
   ],
   "source": [
    "# Gives us count of missing values\n",
    "df.isnull().sum().sort_values(ascending=False)"
   ]
  },
  {
   "cell_type": "code",
   "execution_count": 6,
   "id": "8a98023e",
   "metadata": {},
   "outputs": [
    {
     "data": {
      "text/html": [
       "<div>\n",
       "<style scoped>\n",
       "    .dataframe tbody tr th:only-of-type {\n",
       "        vertical-align: middle;\n",
       "    }\n",
       "\n",
       "    .dataframe tbody tr th {\n",
       "        vertical-align: top;\n",
       "    }\n",
       "\n",
       "    .dataframe thead th {\n",
       "        text-align: right;\n",
       "    }\n",
       "</style>\n",
       "<table border=\"1\" class=\"dataframe\">\n",
       "  <thead>\n",
       "    <tr style=\"text-align: right;\">\n",
       "      <th></th>\n",
       "      <th>Year</th>\n",
       "      <th>Engine HP</th>\n",
       "      <th>Engine Cylinders</th>\n",
       "      <th>Number of Doors</th>\n",
       "      <th>highway MPG</th>\n",
       "      <th>city mpg</th>\n",
       "      <th>Popularity</th>\n",
       "      <th>MSRP</th>\n",
       "    </tr>\n",
       "  </thead>\n",
       "  <tbody>\n",
       "    <tr>\n",
       "      <th>count</th>\n",
       "      <td>11914.000000</td>\n",
       "      <td>11845.00000</td>\n",
       "      <td>11884.000000</td>\n",
       "      <td>11908.000000</td>\n",
       "      <td>11914.000000</td>\n",
       "      <td>11914.000000</td>\n",
       "      <td>11914.000000</td>\n",
       "      <td>1.191400e+04</td>\n",
       "    </tr>\n",
       "    <tr>\n",
       "      <th>mean</th>\n",
       "      <td>2010.384338</td>\n",
       "      <td>249.38607</td>\n",
       "      <td>5.628829</td>\n",
       "      <td>3.436093</td>\n",
       "      <td>26.637485</td>\n",
       "      <td>19.733255</td>\n",
       "      <td>1554.911197</td>\n",
       "      <td>4.059474e+04</td>\n",
       "    </tr>\n",
       "    <tr>\n",
       "      <th>std</th>\n",
       "      <td>7.579740</td>\n",
       "      <td>109.19187</td>\n",
       "      <td>1.780559</td>\n",
       "      <td>0.881315</td>\n",
       "      <td>8.863001</td>\n",
       "      <td>8.987798</td>\n",
       "      <td>1441.855347</td>\n",
       "      <td>6.010910e+04</td>\n",
       "    </tr>\n",
       "    <tr>\n",
       "      <th>min</th>\n",
       "      <td>1990.000000</td>\n",
       "      <td>55.00000</td>\n",
       "      <td>0.000000</td>\n",
       "      <td>2.000000</td>\n",
       "      <td>12.000000</td>\n",
       "      <td>7.000000</td>\n",
       "      <td>2.000000</td>\n",
       "      <td>2.000000e+03</td>\n",
       "    </tr>\n",
       "    <tr>\n",
       "      <th>25%</th>\n",
       "      <td>2007.000000</td>\n",
       "      <td>170.00000</td>\n",
       "      <td>4.000000</td>\n",
       "      <td>2.000000</td>\n",
       "      <td>22.000000</td>\n",
       "      <td>16.000000</td>\n",
       "      <td>549.000000</td>\n",
       "      <td>2.100000e+04</td>\n",
       "    </tr>\n",
       "    <tr>\n",
       "      <th>50%</th>\n",
       "      <td>2015.000000</td>\n",
       "      <td>227.00000</td>\n",
       "      <td>6.000000</td>\n",
       "      <td>4.000000</td>\n",
       "      <td>26.000000</td>\n",
       "      <td>18.000000</td>\n",
       "      <td>1385.000000</td>\n",
       "      <td>2.999500e+04</td>\n",
       "    </tr>\n",
       "    <tr>\n",
       "      <th>75%</th>\n",
       "      <td>2016.000000</td>\n",
       "      <td>300.00000</td>\n",
       "      <td>6.000000</td>\n",
       "      <td>4.000000</td>\n",
       "      <td>30.000000</td>\n",
       "      <td>22.000000</td>\n",
       "      <td>2009.000000</td>\n",
       "      <td>4.223125e+04</td>\n",
       "    </tr>\n",
       "    <tr>\n",
       "      <th>max</th>\n",
       "      <td>2017.000000</td>\n",
       "      <td>1001.00000</td>\n",
       "      <td>16.000000</td>\n",
       "      <td>4.000000</td>\n",
       "      <td>354.000000</td>\n",
       "      <td>137.000000</td>\n",
       "      <td>5657.000000</td>\n",
       "      <td>2.065902e+06</td>\n",
       "    </tr>\n",
       "  </tbody>\n",
       "</table>\n",
       "</div>"
      ],
      "text/plain": [
       "               Year    Engine HP  Engine Cylinders  Number of Doors  \\\n",
       "count  11914.000000  11845.00000      11884.000000     11908.000000   \n",
       "mean    2010.384338    249.38607          5.628829         3.436093   \n",
       "std        7.579740    109.19187          1.780559         0.881315   \n",
       "min     1990.000000     55.00000          0.000000         2.000000   \n",
       "25%     2007.000000    170.00000          4.000000         2.000000   \n",
       "50%     2015.000000    227.00000          6.000000         4.000000   \n",
       "75%     2016.000000    300.00000          6.000000         4.000000   \n",
       "max     2017.000000   1001.00000         16.000000         4.000000   \n",
       "\n",
       "        highway MPG      city mpg    Popularity          MSRP  \n",
       "count  11914.000000  11914.000000  11914.000000  1.191400e+04  \n",
       "mean      26.637485     19.733255   1554.911197  4.059474e+04  \n",
       "std        8.863001      8.987798   1441.855347  6.010910e+04  \n",
       "min       12.000000      7.000000      2.000000  2.000000e+03  \n",
       "25%       22.000000     16.000000    549.000000  2.100000e+04  \n",
       "50%       26.000000     18.000000   1385.000000  2.999500e+04  \n",
       "75%       30.000000     22.000000   2009.000000  4.223125e+04  \n",
       "max      354.000000    137.000000   5657.000000  2.065902e+06  "
      ]
     },
     "execution_count": 6,
     "metadata": {},
     "output_type": "execute_result"
    }
   ],
   "source": [
    "#descriptive statistics\n",
    "df.describe()"
   ]
  },
  {
   "cell_type": "code",
   "execution_count": 7,
   "id": "b4b62850",
   "metadata": {},
   "outputs": [
    {
     "data": {
      "text/html": [
       "<div>\n",
       "<style scoped>\n",
       "    .dataframe tbody tr th:only-of-type {\n",
       "        vertical-align: middle;\n",
       "    }\n",
       "\n",
       "    .dataframe tbody tr th {\n",
       "        vertical-align: top;\n",
       "    }\n",
       "\n",
       "    .dataframe thead th {\n",
       "        text-align: right;\n",
       "    }\n",
       "</style>\n",
       "<table border=\"1\" class=\"dataframe\">\n",
       "  <thead>\n",
       "    <tr style=\"text-align: right;\">\n",
       "      <th></th>\n",
       "      <th>Make</th>\n",
       "      <th>Model</th>\n",
       "      <th>Engine Fuel Type</th>\n",
       "      <th>Transmission Type</th>\n",
       "      <th>Driven_Wheels</th>\n",
       "      <th>Market Category</th>\n",
       "      <th>Vehicle Size</th>\n",
       "      <th>Vehicle Style</th>\n",
       "    </tr>\n",
       "  </thead>\n",
       "  <tbody>\n",
       "    <tr>\n",
       "      <th>count</th>\n",
       "      <td>11914</td>\n",
       "      <td>11914</td>\n",
       "      <td>11911</td>\n",
       "      <td>11914</td>\n",
       "      <td>11914</td>\n",
       "      <td>8172</td>\n",
       "      <td>11914</td>\n",
       "      <td>11914</td>\n",
       "    </tr>\n",
       "    <tr>\n",
       "      <th>unique</th>\n",
       "      <td>48</td>\n",
       "      <td>915</td>\n",
       "      <td>10</td>\n",
       "      <td>5</td>\n",
       "      <td>4</td>\n",
       "      <td>71</td>\n",
       "      <td>3</td>\n",
       "      <td>16</td>\n",
       "    </tr>\n",
       "    <tr>\n",
       "      <th>top</th>\n",
       "      <td>Chevrolet</td>\n",
       "      <td>Silverado 1500</td>\n",
       "      <td>regular unleaded</td>\n",
       "      <td>AUTOMATIC</td>\n",
       "      <td>front wheel drive</td>\n",
       "      <td>Crossover</td>\n",
       "      <td>Compact</td>\n",
       "      <td>Sedan</td>\n",
       "    </tr>\n",
       "    <tr>\n",
       "      <th>freq</th>\n",
       "      <td>1123</td>\n",
       "      <td>156</td>\n",
       "      <td>7172</td>\n",
       "      <td>8266</td>\n",
       "      <td>4787</td>\n",
       "      <td>1110</td>\n",
       "      <td>4764</td>\n",
       "      <td>3048</td>\n",
       "    </tr>\n",
       "  </tbody>\n",
       "</table>\n",
       "</div>"
      ],
      "text/plain": [
       "             Make           Model  Engine Fuel Type Transmission Type  \\\n",
       "count       11914           11914             11911             11914   \n",
       "unique         48             915                10                 5   \n",
       "top     Chevrolet  Silverado 1500  regular unleaded         AUTOMATIC   \n",
       "freq         1123             156              7172              8266   \n",
       "\n",
       "            Driven_Wheels Market Category Vehicle Size Vehicle Style  \n",
       "count               11914            8172        11914         11914  \n",
       "unique                  4              71            3            16  \n",
       "top     front wheel drive       Crossover      Compact         Sedan  \n",
       "freq                 4787            1110         4764          3048  "
      ]
     },
     "execution_count": 7,
     "metadata": {},
     "output_type": "execute_result"
    }
   ],
   "source": [
    "#descriptive statistics for categorical columns\n",
    "df.describe(include=['object'])"
   ]
  },
  {
   "cell_type": "code",
   "execution_count": 8,
   "id": "4783efd3",
   "metadata": {},
   "outputs": [
    {
     "data": {
      "image/png": "[encoded data removed]",
      "text/plain": [
       "<Figure size 640x480 with 1 Axes>"
      ]
     },
     "metadata": {},
     "output_type": "display_data"
    }
   ],
   "source": [
    "#countplot for number of doors\n",
    "sns.set_theme(style=\"darkgrid\")\n",
    "sns.countplot(x ='Number of Doors', data = df)\n",
    "plt.title('count of cars with two,three and four doors')\n",
    "# Show the plot\n",
    "plt.show()"
   ]
  },
  {
   "cell_type": "code",
   "execution_count": 9,
   "id": "9f9ee883",
   "metadata": {},
   "outputs": [
    {
     "data": {
      "image/png": "[encoded data removed]",
      "text/plain": [
       "<Figure size 1000x800 with 1 Axes>"
      ]
     },
     "metadata": {},
     "output_type": "display_data"
    }
   ],
   "source": [
    "#countplot for no. of engine cylinders\n",
    "plt.figure(figsize=(10,8))\n",
    "sns.set_theme(style=\"darkgrid\")\n",
    "sns.countplot(x ='Engine Cylinders', data = df)\n",
    "plt.title('Engine Cylinders')\n",
    "plt.show()"
   ]
  },
  {
   "cell_type": "code",
   "execution_count": 10,
   "id": "a69ae2f9",
   "metadata": {},
   "outputs": [
    {
     "data": {
      "text/plain": [
       "(array([1.695e+03, 4.834e+03, 3.489e+03, 1.057e+03, 4.070e+02, 2.660e+02,\n",
       "        8.500e+01, 9.000e+00, 0.000e+00, 3.000e+00]),\n",
       " array([  55. ,  149.6,  244.2,  338.8,  433.4,  528. ,  622.6,  717.2,\n",
       "         811.8,  906.4, 1001. ]),\n",
       " <BarContainer object of 10 artists>)"
      ]
     },
     "execution_count": 10,
     "metadata": {},
     "output_type": "execute_result"
    },
    {
     "data": {
      "image/png": "[encoded data removed]",
      "text/plain": [
       "<Figure size 640x480 with 1 Axes>"
      ]
     },
     "metadata": {},
     "output_type": "display_data"
    }
   ],
   "source": [
    "#histogram plot for engine horsepower(tells us how frequent it appeared)\n",
    "plt.hist(df['Engine HP'])"
   ]
  },
  {
   "cell_type": "code",
   "execution_count": 11,
   "id": "dfc81488",
   "metadata": {},
   "outputs": [
    {
     "data": {
      "text/plain": [
       "(array([7.116e+03, 4.504e+03, 1.820e+02, 4.600e+01, 0.000e+00, 3.000e+00,\n",
       "        1.500e+01, 9.000e+00, 9.000e+00, 3.000e+01]),\n",
       " array([  7.,  20.,  33.,  46.,  59.,  72.,  85.,  98., 111., 124., 137.]),\n",
       " <BarContainer object of 10 artists>)"
      ]
     },
     "execution_count": 11,
     "metadata": {},
     "output_type": "execute_result"
    },
    {
     "data": {
      "image/png": "[encoded data removed]",
      "text/plain": [
       "<Figure size 640x480 with 1 Axes>"
      ]
     },
     "metadata": {},
     "output_type": "display_data"
    }
   ],
   "source": [
    "#histogram plot for city mpg\n",
    "plt.hist(df['city mpg'])"
   ]
  },
  {
   "cell_type": "code",
   "execution_count": 12,
   "id": "c16d7d48",
   "metadata": {},
   "outputs": [
    {
     "data": {
      "text/plain": [
       "<AxesSubplot:title={'center':'Manufacturer’s Suggested Retail Price Plot'}, xlabel='MSRP', ylabel='Density'>"
      ]
     },
     "execution_count": 12,
     "metadata": {},
     "output_type": "execute_result"
    },
    {
     "data": {
      "image/png": "[encoded data removed]",
      "text/plain": [
       "<Figure size 640x480 with 1 Axes>"
      ]
     },
     "metadata": {},
     "output_type": "display_data"
    }
   ],
   "source": [
    "#Distribution plot for MSRP\n",
    "plt.title('Manufacturer’s Suggested Retail Price Plot')\n",
    "sns.distplot(df.MSRP)"
   ]
  },
  {
   "cell_type": "code",
   "execution_count": 13,
   "id": "7cfc237e",
   "metadata": {},
   "outputs": [
    {
     "data": {
      "text/plain": [
       "<seaborn.axisgrid.FacetGrid at 0x28b2bf5ed90>"
      ]
     },
     "execution_count": 13,
     "metadata": {},
     "output_type": "execute_result"
    },
    {
     "data": {
      "image/png": "[encoded data removed]",
      "text/plain": [
       "<Figure size 500x500 with 1 Axes>"
      ]
     },
     "metadata": {},
     "output_type": "display_data"
    }
   ],
   "source": [
    "sns.catplot(x=\"Vehicle Size\", y=\"MSRP\", kind=\"bar\", data=df)"
   ]
  },
  {
   "cell_type": "code",
   "execution_count": 14,
   "id": "a65ac003",
   "metadata": {},
   "outputs": [],
   "source": [
    "#dropping other categorical column because it has more missing values\n",
    "df= df.drop(['Market Category'], axis=1)"
   ]
  },
  {
   "cell_type": "markdown",
   "id": "cca1faf6",
   "metadata": {},
   "source": [
    "# imputing missing values with median(from the above visualization, we came to know that data is right skewed) and mode"
   ]
  },
  {
   "cell_type": "code",
   "execution_count": 15,
   "id": "d8f9a7de",
   "metadata": {},
   "outputs": [],
   "source": [
    "df['Engine HP'].median()\n",
    "df['Engine HP'].fillna(value = df['Engine HP'].median(), inplace = True)"
   ]
  },
  {
   "cell_type": "code",
   "execution_count": 16,
   "id": "022928ce",
   "metadata": {},
   "outputs": [],
   "source": [
    "df['Engine Cylinders'].median()\n",
    "df['Engine Cylinders'].fillna(value = df['Engine Cylinders'].median(), inplace = True)"
   ]
  },
  {
   "cell_type": "code",
   "execution_count": 17,
   "id": "6fa5d305",
   "metadata": {},
   "outputs": [],
   "source": [
    "df['Number of Doors'].median()\n",
    "df['Number of Doors'].fillna(value = df['Number of Doors'].median(), inplace = True)"
   ]
  },
  {
   "cell_type": "code",
   "execution_count": 18,
   "id": "440600af",
   "metadata": {},
   "outputs": [],
   "source": [
    "df['Engine Fuel Type'].mode()\n",
    "df['Engine Fuel Type'].fillna(value = df['Engine Fuel Type'].mode(), inplace = True)"
   ]
  },
  {
   "cell_type": "code",
   "execution_count": 19,
   "id": "38f705aa",
   "metadata": {},
   "outputs": [
    {
     "data": {
      "text/plain": [
       "Make                   48\n",
       "Model                 915\n",
       "Year                   28\n",
       "Engine Fuel Type       10\n",
       "Engine HP             356\n",
       "Engine Cylinders        9\n",
       "Transmission Type       5\n",
       "Driven_Wheels           4\n",
       "Number of Doors         3\n",
       "Vehicle Size            3\n",
       "Vehicle Style          16\n",
       "highway MPG            59\n",
       "city mpg               69\n",
       "Popularity             48\n",
       "MSRP                 6049\n",
       "dtype: int64"
      ]
     },
     "execution_count": 19,
     "metadata": {},
     "output_type": "execute_result"
    }
   ],
   "source": [
    "df.nunique()"
   ]
  },
  {
   "cell_type": "code",
   "execution_count": 20,
   "id": "6c322e2e",
   "metadata": {},
   "outputs": [],
   "source": [
    "#dropping the categorical column because it has more unique values\n",
    "df= df.drop(['Model'], axis=1)"
   ]
  },
  {
   "cell_type": "markdown",
   "id": "5fce17b4",
   "metadata": {},
   "source": [
    "# to convert categorical columns into numerical"
   ]
  },
  {
   "cell_type": "code",
   "execution_count": 21,
   "id": "871c0aa2",
   "metadata": {},
   "outputs": [],
   "source": [
    "df['Make']=df['Make'].astype('category')\n",
    "df['Make_label']=df['Make'].cat.codes\n",
    "df=df.drop(['Make'],axis=1)"
   ]
  },
  {
   "cell_type": "code",
   "execution_count": 22,
   "id": "452c4673",
   "metadata": {},
   "outputs": [],
   "source": [
    "df['Engine Fuel Type']=df['Engine Fuel Type'].astype('category')\n",
    "df['Engine Fuel Type_label']=df['Engine Fuel Type'].cat.codes\n",
    "df=df.drop(['Engine Fuel Type'],axis=1)"
   ]
  },
  {
   "cell_type": "code",
   "execution_count": 23,
   "id": "f5fe583d",
   "metadata": {},
   "outputs": [],
   "source": [
    "df['Transmission Type']=df['Transmission Type'].astype('category')\n",
    "df['Transmission Type_label']=df['Transmission Type'].cat.codes\n",
    "df=df.drop(['Transmission Type'],axis=1)"
   ]
  },
  {
   "cell_type": "code",
   "execution_count": 24,
   "id": "32961547",
   "metadata": {},
   "outputs": [],
   "source": [
    "df['Driven_Wheels']=df['Driven_Wheels'].astype('category')\n",
    "df['Driven_Wheels_label']=df['Driven_Wheels'].cat.codes\n",
    "df=df.drop(['Driven_Wheels'],axis=1)"
   ]
  },
  {
   "cell_type": "code",
   "execution_count": 25,
   "id": "2a069af1",
   "metadata": {},
   "outputs": [],
   "source": [
    "df['Vehicle Size']=df['Vehicle Size'].astype('category')\n",
    "df['Vehicle Size_label']=df['Vehicle Size'].cat.codes\n",
    "df=df.drop(['Vehicle Size'],axis=1)"
   ]
  },
  {
   "cell_type": "code",
   "execution_count": 26,
   "id": "ebe90fab",
   "metadata": {},
   "outputs": [],
   "source": [
    "df['Vehicle Style']=df['Vehicle Style'].astype('category')\n",
    "df['Vehicle Style_label']=df['Vehicle Style'].cat.codes\n",
    "df=df.drop(['Vehicle Style'],axis=1)"
   ]
  },
  {
   "cell_type": "code",
   "execution_count": 27,
   "id": "62cd7725",
   "metadata": {},
   "outputs": [
    {
     "data": {
      "text/html": [
       "<div>\n",
       "<style scoped>\n",
       "    .dataframe tbody tr th:only-of-type {\n",
       "        vertical-align: middle;\n",
       "    }\n",
       "\n",
       "    .dataframe tbody tr th {\n",
       "        vertical-align: top;\n",
       "    }\n",
       "\n",
       "    .dataframe thead th {\n",
       "        text-align: right;\n",
       "    }\n",
       "</style>\n",
       "<table border=\"1\" class=\"dataframe\">\n",
       "  <thead>\n",
       "    <tr style=\"text-align: right;\">\n",
       "      <th></th>\n",
       "      <th>Year</th>\n",
       "      <th>Engine HP</th>\n",
       "      <th>Engine Cylinders</th>\n",
       "      <th>Number of Doors</th>\n",
       "      <th>highway MPG</th>\n",
       "      <th>city mpg</th>\n",
       "      <th>Popularity</th>\n",
       "      <th>MSRP</th>\n",
       "      <th>Make_label</th>\n",
       "      <th>Engine Fuel Type_label</th>\n",
       "      <th>Transmission Type_label</th>\n",
       "      <th>Driven_Wheels_label</th>\n",
       "      <th>Vehicle Size_label</th>\n",
       "      <th>Vehicle Style_label</th>\n",
       "    </tr>\n",
       "  </thead>\n",
       "  <tbody>\n",
       "    <tr>\n",
       "      <th>0</th>\n",
       "      <td>2011</td>\n",
       "      <td>335.0</td>\n",
       "      <td>6.0</td>\n",
       "      <td>2.0</td>\n",
       "      <td>26</td>\n",
       "      <td>19</td>\n",
       "      <td>3916</td>\n",
       "      <td>46135</td>\n",
       "      <td>4</td>\n",
       "      <td>8</td>\n",
       "      <td>3</td>\n",
       "      <td>3</td>\n",
       "      <td>0</td>\n",
       "      <td>8</td>\n",
       "    </tr>\n",
       "    <tr>\n",
       "      <th>1</th>\n",
       "      <td>2011</td>\n",
       "      <td>300.0</td>\n",
       "      <td>6.0</td>\n",
       "      <td>2.0</td>\n",
       "      <td>28</td>\n",
       "      <td>19</td>\n",
       "      <td>3916</td>\n",
       "      <td>40650</td>\n",
       "      <td>4</td>\n",
       "      <td>8</td>\n",
       "      <td>3</td>\n",
       "      <td>3</td>\n",
       "      <td>0</td>\n",
       "      <td>6</td>\n",
       "    </tr>\n",
       "    <tr>\n",
       "      <th>2</th>\n",
       "      <td>2011</td>\n",
       "      <td>300.0</td>\n",
       "      <td>6.0</td>\n",
       "      <td>2.0</td>\n",
       "      <td>28</td>\n",
       "      <td>20</td>\n",
       "      <td>3916</td>\n",
       "      <td>36350</td>\n",
       "      <td>4</td>\n",
       "      <td>8</td>\n",
       "      <td>3</td>\n",
       "      <td>3</td>\n",
       "      <td>0</td>\n",
       "      <td>8</td>\n",
       "    </tr>\n",
       "    <tr>\n",
       "      <th>3</th>\n",
       "      <td>2011</td>\n",
       "      <td>230.0</td>\n",
       "      <td>6.0</td>\n",
       "      <td>2.0</td>\n",
       "      <td>28</td>\n",
       "      <td>18</td>\n",
       "      <td>3916</td>\n",
       "      <td>29450</td>\n",
       "      <td>4</td>\n",
       "      <td>8</td>\n",
       "      <td>3</td>\n",
       "      <td>3</td>\n",
       "      <td>0</td>\n",
       "      <td>8</td>\n",
       "    </tr>\n",
       "    <tr>\n",
       "      <th>4</th>\n",
       "      <td>2011</td>\n",
       "      <td>230.0</td>\n",
       "      <td>6.0</td>\n",
       "      <td>2.0</td>\n",
       "      <td>28</td>\n",
       "      <td>18</td>\n",
       "      <td>3916</td>\n",
       "      <td>34500</td>\n",
       "      <td>4</td>\n",
       "      <td>8</td>\n",
       "      <td>3</td>\n",
       "      <td>3</td>\n",
       "      <td>0</td>\n",
       "      <td>6</td>\n",
       "    </tr>\n",
       "  </tbody>\n",
       "</table>\n",
       "</div>"
      ],
      "text/plain": [
       "   Year  Engine HP  Engine Cylinders  Number of Doors  highway MPG  city mpg  \\\n",
       "0  2011      335.0               6.0              2.0           26        19   \n",
       "1  2011      300.0               6.0              2.0           28        19   \n",
       "2  2011      300.0               6.0              2.0           28        20   \n",
       "3  2011      230.0               6.0              2.0           28        18   \n",
       "4  2011      230.0               6.0              2.0           28        18   \n",
       "\n",
       "   Popularity   MSRP  Make_label  Engine Fuel Type_label  \\\n",
       "0        3916  46135           4                       8   \n",
       "1        3916  40650           4                       8   \n",
       "2        3916  36350           4                       8   \n",
       "3        3916  29450           4                       8   \n",
       "4        3916  34500           4                       8   \n",
       "\n",
       "   Transmission Type_label  Driven_Wheels_label  Vehicle Size_label  \\\n",
       "0                        3                    3                   0   \n",
       "1                        3                    3                   0   \n",
       "2                        3                    3                   0   \n",
       "3                        3                    3                   0   \n",
       "4                        3                    3                   0   \n",
       "\n",
       "   Vehicle Style_label  \n",
       "0                    8  \n",
       "1                    6  \n",
       "2                    8  \n",
       "3                    8  \n",
       "4                    6  "
      ]
     },
     "execution_count": 27,
     "metadata": {},
     "output_type": "execute_result"
    }
   ],
   "source": [
    "df.head()"
   ]
  },
  {
   "cell_type": "code",
   "execution_count": 28,
   "id": "376ff435",
   "metadata": {},
   "outputs": [
    {
     "data": {
      "text/plain": [
       "Year                       0\n",
       "Engine HP                  0\n",
       "Engine Cylinders           0\n",
       "Number of Doors            0\n",
       "highway MPG                0\n",
       "city mpg                   0\n",
       "Popularity                 0\n",
       "MSRP                       0\n",
       "Make_label                 0\n",
       "Engine Fuel Type_label     0\n",
       "Transmission Type_label    0\n",
       "Driven_Wheels_label        0\n",
       "Vehicle Size_label         0\n",
       "Vehicle Style_label        0\n",
       "dtype: int64"
      ]
     },
     "execution_count": 28,
     "metadata": {},
     "output_type": "execute_result"
    }
   ],
   "source": [
    "df.isnull().sum()"
   ]
  },
  {
   "cell_type": "code",
   "execution_count": 29,
   "id": "d640d2b3",
   "metadata": {},
   "outputs": [],
   "source": [
    "df1 = pd.read_csv(\"C:/Users/csc/OneDrive/Desktop/CHAID/WEEK 2/data.csv\", header=0)"
   ]
  },
  {
   "cell_type": "code",
   "execution_count": 30,
   "id": "b121a4a9",
   "metadata": {},
   "outputs": [
    {
     "data": {
      "text/plain": [
       "array(['premium unleaded (required)', 'regular unleaded',\n",
       "       'premium unleaded (recommended)', 'flex-fuel (unleaded/E85)',\n",
       "       'diesel', 'electric',\n",
       "       'flex-fuel (premium unleaded recommended/E85)', 'natural gas',\n",
       "       'flex-fuel (premium unleaded required/E85)',\n",
       "       'flex-fuel (unleaded/natural gas)', nan], dtype=object)"
      ]
     },
     "execution_count": 30,
     "metadata": {},
     "output_type": "execute_result"
    }
   ],
   "source": [
    "df1[\"Engine Fuel Type\"].unique()"
   ]
  },
  {
   "cell_type": "code",
   "execution_count": 31,
   "id": "213a704d",
   "metadata": {},
   "outputs": [
    {
     "data": {
      "text/plain": [
       "array([ 8,  9,  7,  4,  0,  1,  2,  6,  3,  5, -1], dtype=int8)"
      ]
     },
     "execution_count": 31,
     "metadata": {},
     "output_type": "execute_result"
    }
   ],
   "source": [
    "df[\"Engine Fuel Type_label\"].unique()"
   ]
  },
  {
   "cell_type": "code",
   "execution_count": 32,
   "id": "5ddf1e2c",
   "metadata": {},
   "outputs": [
    {
     "data": {
      "text/plain": [
       "<seaborn.axisgrid.FacetGrid at 0x28b2bf5ef70>"
      ]
     },
     "execution_count": 32,
     "metadata": {},
     "output_type": "execute_result"
    },
    {
     "data": {
      "text/plain": [
       "<Figure size 3000x800 with 0 Axes>"
      ]
     },
     "metadata": {},
     "output_type": "display_data"
    },
    {
     "data": {
      "image/png": "[encoded data removed]",
      "text/plain": [
       "<Figure size 500x500 with 1 Axes>"
      ]
     },
     "metadata": {},
     "output_type": "display_data"
    }
   ],
   "source": [
    "#engine fule type v/s MSRP\n",
    "plt.figure(figsize=(30,8))\n",
    "sns.set_theme(style=\"darkgrid\")\n",
    "sns.catplot(x=\"Engine Fuel Type_label\", y=\"MSRP\", kind=\"bar\", data=df)"
   ]
  },
  {
   "cell_type": "code",
   "execution_count": 33,
   "id": "189a0543",
   "metadata": {},
   "outputs": [
    {
     "data": {
      "text/plain": [
       "array(['MANUAL', 'AUTOMATIC', 'AUTOMATED_MANUAL', 'DIRECT_DRIVE',\n",
       "       'UNKNOWN'], dtype=object)"
      ]
     },
     "execution_count": 33,
     "metadata": {},
     "output_type": "execute_result"
    }
   ],
   "source": [
    "df1[\"Transmission Type\"].unique()"
   ]
  },
  {
   "cell_type": "code",
   "execution_count": 34,
   "id": "6c46266d",
   "metadata": {},
   "outputs": [
    {
     "data": {
      "text/plain": [
       "array([3, 1, 0, 2, 4], dtype=int8)"
      ]
     },
     "execution_count": 34,
     "metadata": {},
     "output_type": "execute_result"
    }
   ],
   "source": [
    "df[\"Transmission Type_label\"].unique()"
   ]
  },
  {
   "cell_type": "code",
   "execution_count": 35,
   "id": "6451d501",
   "metadata": {},
   "outputs": [
    {
     "data": {
      "text/plain": [
       "<seaborn.axisgrid.FacetGrid at 0x28b2c2dfd60>"
      ]
     },
     "execution_count": 35,
     "metadata": {},
     "output_type": "execute_result"
    },
    {
     "data": {
      "text/plain": [
       "<Figure size 3000x800 with 0 Axes>"
      ]
     },
     "metadata": {},
     "output_type": "display_data"
    },
    {
     "data": {
      "image/png": "[encoded data removed]",
      "text/plain": [
       "<Figure size 500x500 with 1 Axes>"
      ]
     },
     "metadata": {},
     "output_type": "display_data"
    }
   ],
   "source": [
    "# transmission type v/s MSRP\n",
    "plt.figure(figsize=(30,8))\n",
    "sns.set_theme(style=\"darkgrid\")\n",
    "sns.catplot(x=\"Transmission Type_label\", y=\"MSRP\", kind=\"bar\", data=df)"
   ]
  },
  {
   "cell_type": "code",
   "execution_count": 36,
   "id": "998fa24b",
   "metadata": {},
   "outputs": [
    {
     "data": {
      "text/plain": [
       "array(['Coupe', 'Convertible', 'Sedan', 'Wagon', '4dr Hatchback',\n",
       "       '2dr Hatchback', '4dr SUV', 'Passenger Minivan', 'Cargo Minivan',\n",
       "       'Crew Cab Pickup', 'Regular Cab Pickup', 'Extended Cab Pickup',\n",
       "       '2dr SUV', 'Cargo Van', 'Convertible SUV', 'Passenger Van'],\n",
       "      dtype=object)"
      ]
     },
     "execution_count": 36,
     "metadata": {},
     "output_type": "execute_result"
    }
   ],
   "source": [
    "df1[\"Vehicle Style\"].unique()"
   ]
  },
  {
   "cell_type": "code",
   "execution_count": 37,
   "id": "4f80d16b",
   "metadata": {},
   "outputs": [
    {
     "data": {
      "text/plain": [
       "array([ 8,  6, 14, 15,  2,  0,  3, 11,  4,  9, 13, 10,  1,  5,  7, 12],\n",
       "      dtype=int8)"
      ]
     },
     "execution_count": 37,
     "metadata": {},
     "output_type": "execute_result"
    }
   ],
   "source": [
    "df[\"Vehicle Style_label\"].unique()"
   ]
  },
  {
   "cell_type": "code",
   "execution_count": 38,
   "id": "d6bf8706",
   "metadata": {},
   "outputs": [
    {
     "data": {
      "text/plain": [
       "<seaborn.axisgrid.FacetGrid at 0x28b2bd2dbb0>"
      ]
     },
     "execution_count": 38,
     "metadata": {},
     "output_type": "execute_result"
    },
    {
     "data": {
      "image/png": "[encoded data removed]",
      "text/plain": [
       "<Figure size 500x500 with 1 Axes>"
      ]
     },
     "metadata": {},
     "output_type": "display_data"
    }
   ],
   "source": [
    "sns.catplot(x=\"Vehicle Style_label\", y=\"MSRP\", kind=\"bar\", data=df)"
   ]
  },
  {
   "cell_type": "code",
   "execution_count": 39,
   "id": "f3028837",
   "metadata": {},
   "outputs": [
    {
     "data": {
      "text/html": [
       "<div>\n",
       "<style scoped>\n",
       "    .dataframe tbody tr th:only-of-type {\n",
       "        vertical-align: middle;\n",
       "    }\n",
       "\n",
       "    .dataframe tbody tr th {\n",
       "        vertical-align: top;\n",
       "    }\n",
       "\n",
       "    .dataframe thead th {\n",
       "        text-align: right;\n",
       "    }\n",
       "</style>\n",
       "<table border=\"1\" class=\"dataframe\">\n",
       "  <thead>\n",
       "    <tr style=\"text-align: right;\">\n",
       "      <th></th>\n",
       "      <th>Year</th>\n",
       "      <th>Engine HP</th>\n",
       "      <th>Engine Cylinders</th>\n",
       "      <th>Number of Doors</th>\n",
       "      <th>highway MPG</th>\n",
       "      <th>city mpg</th>\n",
       "      <th>Popularity</th>\n",
       "      <th>MSRP</th>\n",
       "      <th>Make_label</th>\n",
       "      <th>Engine Fuel Type_label</th>\n",
       "      <th>Transmission Type_label</th>\n",
       "      <th>Driven_Wheels_label</th>\n",
       "      <th>Vehicle Size_label</th>\n",
       "      <th>Vehicle Style_label</th>\n",
       "    </tr>\n",
       "  </thead>\n",
       "  <tbody>\n",
       "    <tr>\n",
       "      <th>Year</th>\n",
       "      <td>1.000000</td>\n",
       "      <td>0.350573</td>\n",
       "      <td>-0.041459</td>\n",
       "      <td>0.263946</td>\n",
       "      <td>0.258240</td>\n",
       "      <td>0.198171</td>\n",
       "      <td>0.073049</td>\n",
       "      <td>0.227590</td>\n",
       "      <td>-0.013936</td>\n",
       "      <td>-0.251953</td>\n",
       "      <td>-0.361553</td>\n",
       "      <td>-0.183914</td>\n",
       "      <td>0.102098</td>\n",
       "      <td>-0.067713</td>\n",
       "    </tr>\n",
       "    <tr>\n",
       "      <th>Engine HP</th>\n",
       "      <td>0.350573</td>\n",
       "      <td>1.000000</td>\n",
       "      <td>0.767037</td>\n",
       "      <td>-0.102934</td>\n",
       "      <td>-0.359457</td>\n",
       "      <td>-0.353894</td>\n",
       "      <td>0.036823</td>\n",
       "      <td>0.661402</td>\n",
       "      <td>-0.226445</td>\n",
       "      <td>-0.193007</td>\n",
       "      <td>-0.238357</td>\n",
       "      <td>-0.035007</td>\n",
       "      <td>0.207912</td>\n",
       "      <td>0.013490</td>\n",
       "    </tr>\n",
       "    <tr>\n",
       "      <th>Engine Cylinders</th>\n",
       "      <td>-0.041459</td>\n",
       "      <td>0.767037</td>\n",
       "      <td>1.000000</td>\n",
       "      <td>-0.140026</td>\n",
       "      <td>-0.600947</td>\n",
       "      <td>-0.565124</td>\n",
       "      <td>0.040815</td>\n",
       "      <td>0.531139</td>\n",
       "      <td>-0.263837</td>\n",
       "      <td>-0.076776</td>\n",
       "      <td>-0.164482</td>\n",
       "      <td>0.087577</td>\n",
       "      <td>0.195037</td>\n",
       "      <td>0.032725</td>\n",
       "    </tr>\n",
       "    <tr>\n",
       "      <th>Number of Doors</th>\n",
       "      <td>0.263946</td>\n",
       "      <td>-0.102934</td>\n",
       "      <td>-0.140026</td>\n",
       "      <td>1.000000</td>\n",
       "      <td>0.118925</td>\n",
       "      <td>0.121206</td>\n",
       "      <td>-0.048251</td>\n",
       "      <td>-0.126081</td>\n",
       "      <td>0.057339</td>\n",
       "      <td>-0.005671</td>\n",
       "      <td>-0.335432</td>\n",
       "      <td>-0.253983</td>\n",
       "      <td>0.267075</td>\n",
       "      <td>0.202841</td>\n",
       "    </tr>\n",
       "    <tr>\n",
       "      <th>highway MPG</th>\n",
       "      <td>0.258240</td>\n",
       "      <td>-0.359457</td>\n",
       "      <td>-0.600947</td>\n",
       "      <td>0.118925</td>\n",
       "      <td>1.000000</td>\n",
       "      <td>0.886829</td>\n",
       "      <td>-0.020991</td>\n",
       "      <td>-0.160043</td>\n",
       "      <td>0.133242</td>\n",
       "      <td>-0.170787</td>\n",
       "      <td>0.044252</td>\n",
       "      <td>-0.003503</td>\n",
       "      <td>-0.111000</td>\n",
       "      <td>0.027447</td>\n",
       "    </tr>\n",
       "    <tr>\n",
       "      <th>city mpg</th>\n",
       "      <td>0.198171</td>\n",
       "      <td>-0.353894</td>\n",
       "      <td>-0.565124</td>\n",
       "      <td>0.121206</td>\n",
       "      <td>0.886829</td>\n",
       "      <td>1.000000</td>\n",
       "      <td>-0.003217</td>\n",
       "      <td>-0.157676</td>\n",
       "      <td>0.150862</td>\n",
       "      <td>-0.183757</td>\n",
       "      <td>0.048807</td>\n",
       "      <td>-0.011236</td>\n",
       "      <td>-0.142728</td>\n",
       "      <td>-0.041795</td>\n",
       "    </tr>\n",
       "    <tr>\n",
       "      <th>Popularity</th>\n",
       "      <td>0.073049</td>\n",
       "      <td>0.036823</td>\n",
       "      <td>0.040815</td>\n",
       "      <td>-0.048251</td>\n",
       "      <td>-0.020991</td>\n",
       "      <td>-0.003217</td>\n",
       "      <td>1.000000</td>\n",
       "      <td>-0.048476</td>\n",
       "      <td>-0.297651</td>\n",
       "      <td>-0.058235</td>\n",
       "      <td>0.010095</td>\n",
       "      <td>0.026987</td>\n",
       "      <td>-0.003995</td>\n",
       "      <td>0.036024</td>\n",
       "    </tr>\n",
       "    <tr>\n",
       "      <th>MSRP</th>\n",
       "      <td>0.227590</td>\n",
       "      <td>0.661402</td>\n",
       "      <td>0.531139</td>\n",
       "      <td>-0.126081</td>\n",
       "      <td>-0.160043</td>\n",
       "      <td>-0.157676</td>\n",
       "      <td>-0.048476</td>\n",
       "      <td>1.000000</td>\n",
       "      <td>-0.107331</td>\n",
       "      <td>-0.113913</td>\n",
       "      <td>-0.181742</td>\n",
       "      <td>-0.037943</td>\n",
       "      <td>0.037162</td>\n",
       "      <td>-0.010193</td>\n",
       "    </tr>\n",
       "    <tr>\n",
       "      <th>Make_label</th>\n",
       "      <td>-0.013936</td>\n",
       "      <td>-0.226445</td>\n",
       "      <td>-0.263837</td>\n",
       "      <td>0.057339</td>\n",
       "      <td>0.133242</td>\n",
       "      <td>0.150862</td>\n",
       "      <td>-0.297651</td>\n",
       "      <td>-0.107331</td>\n",
       "      <td>1.000000</td>\n",
       "      <td>0.113567</td>\n",
       "      <td>0.045022</td>\n",
       "      <td>-0.035689</td>\n",
       "      <td>-0.102262</td>\n",
       "      <td>-0.057137</td>\n",
       "    </tr>\n",
       "    <tr>\n",
       "      <th>Engine Fuel Type_label</th>\n",
       "      <td>-0.251953</td>\n",
       "      <td>-0.193007</td>\n",
       "      <td>-0.076776</td>\n",
       "      <td>-0.005671</td>\n",
       "      <td>-0.170787</td>\n",
       "      <td>-0.183757</td>\n",
       "      <td>-0.058235</td>\n",
       "      <td>-0.113913</td>\n",
       "      <td>0.113567</td>\n",
       "      <td>1.000000</td>\n",
       "      <td>0.123774</td>\n",
       "      <td>0.018686</td>\n",
       "      <td>-0.050507</td>\n",
       "      <td>-0.045634</td>\n",
       "    </tr>\n",
       "    <tr>\n",
       "      <th>Transmission Type_label</th>\n",
       "      <td>-0.361553</td>\n",
       "      <td>-0.238357</td>\n",
       "      <td>-0.164482</td>\n",
       "      <td>-0.335432</td>\n",
       "      <td>0.044252</td>\n",
       "      <td>0.048807</td>\n",
       "      <td>0.010095</td>\n",
       "      <td>-0.181742</td>\n",
       "      <td>0.045022</td>\n",
       "      <td>0.123774</td>\n",
       "      <td>1.000000</td>\n",
       "      <td>0.173338</td>\n",
       "      <td>-0.305262</td>\n",
       "      <td>-0.035039</td>\n",
       "    </tr>\n",
       "    <tr>\n",
       "      <th>Driven_Wheels_label</th>\n",
       "      <td>-0.183914</td>\n",
       "      <td>-0.035007</td>\n",
       "      <td>0.087577</td>\n",
       "      <td>-0.253983</td>\n",
       "      <td>-0.003503</td>\n",
       "      <td>-0.011236</td>\n",
       "      <td>0.026987</td>\n",
       "      <td>-0.037943</td>\n",
       "      <td>-0.035689</td>\n",
       "      <td>0.018686</td>\n",
       "      <td>0.173338</td>\n",
       "      <td>1.000000</td>\n",
       "      <td>-0.132160</td>\n",
       "      <td>0.099985</td>\n",
       "    </tr>\n",
       "    <tr>\n",
       "      <th>Vehicle Size_label</th>\n",
       "      <td>0.102098</td>\n",
       "      <td>0.207912</td>\n",
       "      <td>0.195037</td>\n",
       "      <td>0.267075</td>\n",
       "      <td>-0.111000</td>\n",
       "      <td>-0.142728</td>\n",
       "      <td>-0.003995</td>\n",
       "      <td>0.037162</td>\n",
       "      <td>-0.102262</td>\n",
       "      <td>-0.050507</td>\n",
       "      <td>-0.305262</td>\n",
       "      <td>-0.132160</td>\n",
       "      <td>1.000000</td>\n",
       "      <td>0.166140</td>\n",
       "    </tr>\n",
       "    <tr>\n",
       "      <th>Vehicle Style_label</th>\n",
       "      <td>-0.067713</td>\n",
       "      <td>0.013490</td>\n",
       "      <td>0.032725</td>\n",
       "      <td>0.202841</td>\n",
       "      <td>0.027447</td>\n",
       "      <td>-0.041795</td>\n",
       "      <td>0.036024</td>\n",
       "      <td>-0.010193</td>\n",
       "      <td>-0.057137</td>\n",
       "      <td>-0.045634</td>\n",
       "      <td>-0.035039</td>\n",
       "      <td>0.099985</td>\n",
       "      <td>0.166140</td>\n",
       "      <td>1.000000</td>\n",
       "    </tr>\n",
       "  </tbody>\n",
       "</table>\n",
       "</div>"
      ],
      "text/plain": [
       "                             Year  Engine HP  Engine Cylinders  \\\n",
       "Year                     1.000000   0.350573         -0.041459   \n",
       "Engine HP                0.350573   1.000000          0.767037   \n",
       "Engine Cylinders        -0.041459   0.767037          1.000000   \n",
       "Number of Doors          0.263946  -0.102934         -0.140026   \n",
       "highway MPG              0.258240  -0.359457         -0.600947   \n",
       "city mpg                 0.198171  -0.353894         -0.565124   \n",
       "Popularity               0.073049   0.036823          0.040815   \n",
       "MSRP                     0.227590   0.661402          0.531139   \n",
       "Make_label              -0.013936  -0.226445         -0.263837   \n",
       "Engine Fuel Type_label  -0.251953  -0.193007         -0.076776   \n",
       "Transmission Type_label -0.361553  -0.238357         -0.164482   \n",
       "Driven_Wheels_label     -0.183914  -0.035007          0.087577   \n",
       "Vehicle Size_label       0.102098   0.207912          0.195037   \n",
       "Vehicle Style_label     -0.067713   0.013490          0.032725   \n",
       "\n",
       "                         Number of Doors  highway MPG  city mpg  Popularity  \\\n",
       "Year                            0.263946     0.258240  0.198171    0.073049   \n",
       "Engine HP                      -0.102934    -0.359457 -0.353894    0.036823   \n",
       "Engine Cylinders               -0.140026    -0.600947 -0.565124    0.040815   \n",
       "Number of Doors                 1.000000     0.118925  0.121206   -0.048251   \n",
       "highway MPG                     0.118925     1.000000  0.886829   -0.020991   \n",
       "city mpg                        0.121206     0.886829  1.000000   -0.003217   \n",
       "Popularity                     -0.048251    -0.020991 -0.003217    1.000000   \n",
       "MSRP                           -0.126081    -0.160043 -0.157676   -0.048476   \n",
       "Make_label                      0.057339     0.133242  0.150862   -0.297651   \n",
       "Engine Fuel Type_label         -0.005671    -0.170787 -0.183757   -0.058235   \n",
       "Transmission Type_label        -0.335432     0.044252  0.048807    0.010095   \n",
       "Driven_Wheels_label            -0.253983    -0.003503 -0.011236    0.026987   \n",
       "Vehicle Size_label              0.267075    -0.111000 -0.142728   -0.003995   \n",
       "Vehicle Style_label             0.202841     0.027447 -0.041795    0.036024   \n",
       "\n",
       "                             MSRP  Make_label  Engine Fuel Type_label  \\\n",
       "Year                     0.227590   -0.013936               -0.251953   \n",
       "Engine HP                0.661402   -0.226445               -0.193007   \n",
       "Engine Cylinders         0.531139   -0.263837               -0.076776   \n",
       "Number of Doors         -0.126081    0.057339               -0.005671   \n",
       "highway MPG             -0.160043    0.133242               -0.170787   \n",
       "city mpg                -0.157676    0.150862               -0.183757   \n",
       "Popularity              -0.048476   -0.297651               -0.058235   \n",
       "MSRP                     1.000000   -0.107331               -0.113913   \n",
       "Make_label              -0.107331    1.000000                0.113567   \n",
       "Engine Fuel Type_label  -0.113913    0.113567                1.000000   \n",
       "Transmission Type_label -0.181742    0.045022                0.123774   \n",
       "Driven_Wheels_label     -0.037943   -0.035689                0.018686   \n",
       "Vehicle Size_label       0.037162   -0.102262               -0.050507   \n",
       "Vehicle Style_label     -0.010193   -0.057137               -0.045634   \n",
       "\n",
       "                         Transmission Type_label  Driven_Wheels_label  \\\n",
       "Year                                   -0.361553            -0.183914   \n",
       "Engine HP                              -0.238357            -0.035007   \n",
       "Engine Cylinders                       -0.164482             0.087577   \n",
       "Number of Doors                        -0.335432            -0.253983   \n",
       "highway MPG                             0.044252            -0.003503   \n",
       "city mpg                                0.048807            -0.011236   \n",
       "Popularity                              0.010095             0.026987   \n",
       "MSRP                                   -0.181742            -0.037943   \n",
       "Make_label                              0.045022            -0.035689   \n",
       "Engine Fuel Type_label                  0.123774             0.018686   \n",
       "Transmission Type_label                 1.000000             0.173338   \n",
       "Driven_Wheels_label                     0.173338             1.000000   \n",
       "Vehicle Size_label                     -0.305262            -0.132160   \n",
       "Vehicle Style_label                    -0.035039             0.099985   \n",
       "\n",
       "                         Vehicle Size_label  Vehicle Style_label  \n",
       "Year                               0.102098            -0.067713  \n",
       "Engine HP                          0.207912             0.013490  \n",
       "Engine Cylinders                   0.195037             0.032725  \n",
       "Number of Doors                    0.267075             0.202841  \n",
       "highway MPG                       -0.111000             0.027447  \n",
       "city mpg                          -0.142728            -0.041795  \n",
       "Popularity                        -0.003995             0.036024  \n",
       "MSRP                               0.037162            -0.010193  \n",
       "Make_label                        -0.102262            -0.057137  \n",
       "Engine Fuel Type_label            -0.050507            -0.045634  \n",
       "Transmission Type_label           -0.305262            -0.035039  \n",
       "Driven_Wheels_label               -0.132160             0.099985  \n",
       "Vehicle Size_label                 1.000000             0.166140  \n",
       "Vehicle Style_label                0.166140             1.000000  "
      ]
     },
     "execution_count": 39,
     "metadata": {},
     "output_type": "execute_result"
    }
   ],
   "source": [
    "# calculating the correlation of complete dataset\n",
    "corr = df.corr()\n",
    "corr"
   ]
  },
  {
   "cell_type": "code",
   "execution_count": 40,
   "id": "e921880e",
   "metadata": {},
   "outputs": [
    {
     "data": {
      "text/plain": [
       "<AxesSubplot:>"
      ]
     },
     "execution_count": 40,
     "metadata": {},
     "output_type": "execute_result"
    },
    {
     "data": {
      "image/png": "[encoded data removed]",
      "text/plain": [
       "<Figure size 640x480 with 2 Axes>"
      ]
     },
     "metadata": {},
     "output_type": "display_data"
    }
   ],
   "source": [
    "# Visulaizing the heatmap of complete dataset\n",
    "sns.heatmap(corr)"
   ]
  },
  {
   "cell_type": "code",
   "execution_count": 41,
   "id": "a9d6f3d6",
   "metadata": {},
   "outputs": [
    {
     "data": {
      "text/plain": [
       "Year                       0.227590\n",
       "Engine HP                  0.661402\n",
       "Engine Cylinders           0.531139\n",
       "Number of Doors            0.126081\n",
       "highway MPG                0.160043\n",
       "city mpg                   0.157676\n",
       "Popularity                 0.048476\n",
       "MSRP                       1.000000\n",
       "Make_label                 0.107331\n",
       "Engine Fuel Type_label     0.113913\n",
       "Transmission Type_label    0.181742\n",
       "Driven_Wheels_label        0.037943\n",
       "Vehicle Size_label         0.037162\n",
       "Vehicle Style_label        0.010193\n",
       "Name: MSRP, dtype: float64"
      ]
     },
     "execution_count": 41,
     "metadata": {},
     "output_type": "execute_result"
    }
   ],
   "source": [
    "threshold=0\n",
    "a=abs(corr['MSRP'])\n",
    "result=a[a>threshold]\n",
    "result"
   ]
  },
  {
   "cell_type": "code",
   "execution_count": 42,
   "id": "346f7000",
   "metadata": {},
   "outputs": [],
   "source": [
    "df=df.drop(['Driven_Wheels_label'],axis=1)\n",
    "df=df.drop(['Vehicle Size_label'],axis=1)\n",
    "df=df.drop(['Engine HP'],axis=1)"
   ]
  },
  {
   "cell_type": "code",
   "execution_count": 43,
   "id": "e48e78e6",
   "metadata": {},
   "outputs": [
    {
     "name": "stdout",
     "output_type": "stream",
     "text": [
      "661 outliers detected in Year\n",
      "357 outliers detected in Engine Cylinders\n",
      "0 outliers detected in Number of Doors\n",
      "192 outliers detected in highway MPG\n",
      "316 outliers detected in city mpg\n",
      "881 outliers detected in Popularity\n",
      "996 outliers detected in MSRP\n",
      "0 outliers detected in Make_label\n",
      "1210 outliers detected in Engine Fuel Type_label\n",
      "19 outliers detected in Transmission Type_label\n",
      "0 outliers detected in Vehicle Style_label\n"
     ]
    }
   ],
   "source": [
    "col = ['Year','Engine Cylinders', 'Number of Doors',\n",
    "       'highway MPG', 'city mpg', 'Popularity', 'MSRP', 'Make_label',\n",
    "       'Engine Fuel Type_label', 'Transmission Type_label', 'Vehicle Style_label']\n",
    "def detect_outliers(data, threshold=1.5):\n",
    "    q1 = np.percentile(data, 25)\n",
    "    q3 = np.percentile(data, 75)\n",
    "    IQR = q3-q1\n",
    "    upper_bound = q3 + threshold*IQR\n",
    "    lower_bound = q1 - threshold*IQR\n",
    "    outliers = (data > upper_bound) | (data < lower_bound)\n",
    "    return outliers\n",
    "\n",
    "# Check for outliers in each feature\n",
    "for feature in col:\n",
    "    outliers = detect_outliers(df[feature].dropna())\n",
    "    n_outliers = np.sum(outliers)\n",
    "    print(f'{n_outliers} outliers detected in {feature}')"
   ]
  },
  {
   "cell_type": "code",
   "execution_count": 44,
   "id": "a0f37cfe",
   "metadata": {},
   "outputs": [
    {
     "name": "stdout",
     "output_type": "stream",
     "text": [
      "Year\n",
      "--------------------------------------------------\n",
      "Percentiles: 25th=2007.000, 75th=2016.000, IQR=9.000\n",
      "Lower: 1993.5  Upper: 2029.5\n",
      "Identified outliers: 0\n",
      "Non-outlier observations: 11253\n",
      "Number of Doors\n",
      "--------------------------------------------------\n",
      "Percentiles: 25th=2.000, 75th=4.000, IQR=2.000\n",
      "Lower: -1.0  Upper: 7.0\n",
      "Identified outliers: 0\n",
      "Non-outlier observations: 11914\n",
      "highway MPG\n",
      "--------------------------------------------------\n",
      "Percentiles: 25th=22.000, 75th=30.000, IQR=8.000\n",
      "Lower: 10.0  Upper: 42.0\n",
      "Identified outliers: 50\n",
      "Non-outlier observations: 11722\n",
      "city mpg\n",
      "--------------------------------------------------\n",
      "Percentiles: 25th=16.000, 75th=22.000, IQR=6.000\n",
      "Lower: 7.0  Upper: 31.0\n",
      "Identified outliers: 122\n",
      "Non-outlier observations: 11598\n",
      "Popularity\n",
      "--------------------------------------------------\n",
      "Percentiles: 25th=549.000, 75th=2009.000, IQR=1460.000\n",
      "Lower: -1641.0  Upper: 4199.0\n",
      "Identified outliers: 0\n",
      "Non-outlier observations: 11033\n",
      "MSRP\n",
      "--------------------------------------------------\n",
      "Percentiles: 25th=21000.000, 75th=42231.250, IQR=21231.250\n",
      "Lower: -10846.875  Upper: 74078.125\n",
      "Identified outliers: 0\n",
      "Non-outlier observations: 10918\n",
      "Make_label\n",
      "--------------------------------------------------\n",
      "Percentiles: 25th=10.000, 75th=36.000, IQR=26.000\n",
      "Lower: -29.0  Upper: 75.0\n",
      "Identified outliers: 0\n",
      "Non-outlier observations: 11914\n",
      "Engine Fuel Type_label\n",
      "--------------------------------------------------\n",
      "Percentiles: 25th=8.000, 75th=9.000, IQR=1.000\n",
      "Lower: 6.5  Upper: 10.5\n",
      "Identified outliers: 0\n",
      "Non-outlier observations: 10704\n",
      "Transmission Type_label\n",
      "--------------------------------------------------\n",
      "Percentiles: 25th=1.000, 75th=2.000, IQR=1.000\n",
      "Lower: -0.5  Upper: 3.5\n",
      "Identified outliers: 0\n",
      "Non-outlier observations: 11895\n",
      "Driven_Wheels_label\n",
      "--------------------------------------------------\n"
     ]
    },
    {
     "ename": "KeyError",
     "evalue": "'Driven_Wheels_label'",
     "output_type": "error",
     "traceback": [
      "\u001b[1;31m---------------------------------------------------------------------------\u001b[0m",
      "\u001b[1;31mKeyError\u001b[0m                                  Traceback (most recent call last)",
      "\u001b[1;32m~\\anaconda3\\lib\\site-packages\\pandas\\core\\indexes\\base.py\u001b[0m in \u001b[0;36mget_loc\u001b[1;34m(self, key, method, tolerance)\u001b[0m\n\u001b[0;32m   3628\u001b[0m             \u001b[1;32mtry\u001b[0m\u001b[1;33m:\u001b[0m\u001b[1;33m\u001b[0m\u001b[1;33m\u001b[0m\u001b[0m\n\u001b[1;32m-> 3629\u001b[1;33m                 \u001b[1;32mreturn\u001b[0m \u001b[0mself\u001b[0m\u001b[1;33m.\u001b[0m\u001b[0m_engine\u001b[0m\u001b[1;33m.\u001b[0m\u001b[0mget_loc\u001b[0m\u001b[1;33m(\u001b[0m\u001b[0mcasted_key\u001b[0m\u001b[1;33m)\u001b[0m\u001b[1;33m\u001b[0m\u001b[1;33m\u001b[0m\u001b[0m\n\u001b[0m\u001b[0;32m   3630\u001b[0m             \u001b[1;32mexcept\u001b[0m \u001b[0mKeyError\u001b[0m \u001b[1;32mas\u001b[0m \u001b[0merr\u001b[0m\u001b[1;33m:\u001b[0m\u001b[1;33m\u001b[0m\u001b[1;33m\u001b[0m\u001b[0m\n",
      "\u001b[1;32m~\\anaconda3\\lib\\site-packages\\pandas\\_libs\\index.pyx\u001b[0m in \u001b[0;36mpandas._libs.index.IndexEngine.get_loc\u001b[1;34m()\u001b[0m\n",
      "\u001b[1;32m~\\anaconda3\\lib\\site-packages\\pandas\\_libs\\index.pyx\u001b[0m in \u001b[0;36mpandas._libs.index.IndexEngine.get_loc\u001b[1;34m()\u001b[0m\n",
      "\u001b[1;32mpandas\\_libs\\hashtable_class_helper.pxi\u001b[0m in \u001b[0;36mpandas._libs.hashtable.PyObjectHashTable.get_item\u001b[1;34m()\u001b[0m\n",
      "\u001b[1;32mpandas\\_libs\\hashtable_class_helper.pxi\u001b[0m in \u001b[0;36mpandas._libs.hashtable.PyObjectHashTable.get_item\u001b[1;34m()\u001b[0m\n",
      "\u001b[1;31mKeyError\u001b[0m: 'Driven_Wheels_label'",
      "\nThe above exception was the direct cause of the following exception:\n",
      "\u001b[1;31mKeyError\u001b[0m                                  Traceback (most recent call last)",
      "\u001b[1;32m~\\AppData\\Local\\Temp\\ipykernel_11012\\3380284630.py\u001b[0m in \u001b[0;36m<module>\u001b[1;34m\u001b[0m\n\u001b[0;32m     22\u001b[0m \u001b[0moutlier_cols\u001b[0m\u001b[1;33m=\u001b[0m\u001b[1;33m[\u001b[0m\u001b[1;34m'Year'\u001b[0m\u001b[1;33m,\u001b[0m\u001b[1;34m'Number of Doors'\u001b[0m\u001b[1;33m,\u001b[0m\u001b[1;34m'highway MPG'\u001b[0m\u001b[1;33m,\u001b[0m\u001b[1;34m'city mpg'\u001b[0m\u001b[1;33m,\u001b[0m\u001b[1;34m'Popularity'\u001b[0m\u001b[1;33m,\u001b[0m\u001b[1;34m'MSRP'\u001b[0m\u001b[1;33m,\u001b[0m\u001b[1;34m'Make_label'\u001b[0m\u001b[1;33m,\u001b[0m\u001b[1;34m'Engine Fuel Type_label'\u001b[0m\u001b[1;33m,\u001b[0m\u001b[1;34m'Transmission Type_label'\u001b[0m\u001b[1;33m,\u001b[0m\u001b[1;34m'Driven_Wheels_label'\u001b[0m\u001b[1;33m,\u001b[0m\u001b[1;34m'Vehicle Size_label'\u001b[0m\u001b[1;33m,\u001b[0m\u001b[1;34m'Vehicle Style_label'\u001b[0m\u001b[1;33m]\u001b[0m\u001b[1;33m\u001b[0m\u001b[1;33m\u001b[0m\u001b[0m\n\u001b[0;32m     23\u001b[0m \u001b[1;32mfor\u001b[0m \u001b[0mcol\u001b[0m \u001b[1;32min\u001b[0m \u001b[0moutlier_cols\u001b[0m\u001b[1;33m:\u001b[0m\u001b[1;33m\u001b[0m\u001b[1;33m\u001b[0m\u001b[0m\n\u001b[1;32m---> 24\u001b[1;33m     \u001b[0mlower\u001b[0m\u001b[1;33m,\u001b[0m\u001b[0mupper\u001b[0m\u001b[1;33m=\u001b[0m\u001b[0mfind_outliers_limit\u001b[0m\u001b[1;33m(\u001b[0m\u001b[0mdf\u001b[0m\u001b[1;33m,\u001b[0m\u001b[0mcol\u001b[0m\u001b[1;33m)\u001b[0m\u001b[1;33m\u001b[0m\u001b[1;33m\u001b[0m\u001b[0m\n\u001b[0m\u001b[0;32m     25\u001b[0m     \u001b[0mdf\u001b[0m\u001b[1;33m[\u001b[0m\u001b[0mcol\u001b[0m\u001b[1;33m]\u001b[0m\u001b[1;33m=\u001b[0m\u001b[0mremove_outlier\u001b[0m\u001b[1;33m(\u001b[0m\u001b[0mdf\u001b[0m\u001b[1;33m,\u001b[0m\u001b[0mcol\u001b[0m\u001b[1;33m,\u001b[0m\u001b[0mupper\u001b[0m\u001b[1;33m,\u001b[0m\u001b[0mlower\u001b[0m\u001b[1;33m)\u001b[0m\u001b[1;33m\u001b[0m\u001b[1;33m\u001b[0m\u001b[0m\n",
      "\u001b[1;32m~\\AppData\\Local\\Temp\\ipykernel_11012\\3380284630.py\u001b[0m in \u001b[0;36mfind_outliers_limit\u001b[1;34m(df, col)\u001b[0m\n\u001b[0;32m      3\u001b[0m     \u001b[0mprint\u001b[0m\u001b[1;33m(\u001b[0m\u001b[1;34m'-'\u001b[0m\u001b[1;33m*\u001b[0m\u001b[1;36m50\u001b[0m\u001b[1;33m)\u001b[0m\u001b[1;33m\u001b[0m\u001b[1;33m\u001b[0m\u001b[0m\n\u001b[0;32m      4\u001b[0m     \u001b[1;31m#removing outliers\u001b[0m\u001b[1;33m\u001b[0m\u001b[1;33m\u001b[0m\u001b[0m\n\u001b[1;32m----> 5\u001b[1;33m     \u001b[0mq25\u001b[0m\u001b[1;33m,\u001b[0m \u001b[0mq75\u001b[0m \u001b[1;33m=\u001b[0m \u001b[0mnp\u001b[0m\u001b[1;33m.\u001b[0m\u001b[0mpercentile\u001b[0m\u001b[1;33m(\u001b[0m\u001b[0mdf\u001b[0m\u001b[1;33m[\u001b[0m\u001b[0mcol\u001b[0m\u001b[1;33m]\u001b[0m\u001b[1;33m,\u001b[0m \u001b[1;36m25\u001b[0m\u001b[1;33m)\u001b[0m\u001b[1;33m,\u001b[0m \u001b[0mnp\u001b[0m\u001b[1;33m.\u001b[0m\u001b[0mpercentile\u001b[0m\u001b[1;33m(\u001b[0m\u001b[0mdf\u001b[0m\u001b[1;33m[\u001b[0m\u001b[0mcol\u001b[0m\u001b[1;33m]\u001b[0m\u001b[1;33m,\u001b[0m \u001b[1;36m75\u001b[0m\u001b[1;33m)\u001b[0m\u001b[1;33m\u001b[0m\u001b[1;33m\u001b[0m\u001b[0m\n\u001b[0m\u001b[0;32m      6\u001b[0m     \u001b[0miqr\u001b[0m \u001b[1;33m=\u001b[0m \u001b[0mq75\u001b[0m \u001b[1;33m-\u001b[0m \u001b[0mq25\u001b[0m\u001b[1;33m\u001b[0m\u001b[1;33m\u001b[0m\u001b[0m\n\u001b[0;32m      7\u001b[0m     \u001b[0mprint\u001b[0m\u001b[1;33m(\u001b[0m\u001b[1;34m'Percentiles: 25th=%.3f, 75th=%.3f, IQR=%.3f'\u001b[0m \u001b[1;33m%\u001b[0m \u001b[1;33m(\u001b[0m\u001b[0mq25\u001b[0m\u001b[1;33m,\u001b[0m \u001b[0mq75\u001b[0m\u001b[1;33m,\u001b[0m \u001b[0miqr\u001b[0m\u001b[1;33m)\u001b[0m\u001b[1;33m)\u001b[0m\u001b[1;33m\u001b[0m\u001b[1;33m\u001b[0m\u001b[0m\n",
      "\u001b[1;32m~\\anaconda3\\lib\\site-packages\\pandas\\core\\frame.py\u001b[0m in \u001b[0;36m__getitem__\u001b[1;34m(self, key)\u001b[0m\n\u001b[0;32m   3503\u001b[0m             \u001b[1;32mif\u001b[0m \u001b[0mself\u001b[0m\u001b[1;33m.\u001b[0m\u001b[0mcolumns\u001b[0m\u001b[1;33m.\u001b[0m\u001b[0mnlevels\u001b[0m \u001b[1;33m>\u001b[0m \u001b[1;36m1\u001b[0m\u001b[1;33m:\u001b[0m\u001b[1;33m\u001b[0m\u001b[1;33m\u001b[0m\u001b[0m\n\u001b[0;32m   3504\u001b[0m                 \u001b[1;32mreturn\u001b[0m \u001b[0mself\u001b[0m\u001b[1;33m.\u001b[0m\u001b[0m_getitem_multilevel\u001b[0m\u001b[1;33m(\u001b[0m\u001b[0mkey\u001b[0m\u001b[1;33m)\u001b[0m\u001b[1;33m\u001b[0m\u001b[1;33m\u001b[0m\u001b[0m\n\u001b[1;32m-> 3505\u001b[1;33m             \u001b[0mindexer\u001b[0m \u001b[1;33m=\u001b[0m \u001b[0mself\u001b[0m\u001b[1;33m.\u001b[0m\u001b[0mcolumns\u001b[0m\u001b[1;33m.\u001b[0m\u001b[0mget_loc\u001b[0m\u001b[1;33m(\u001b[0m\u001b[0mkey\u001b[0m\u001b[1;33m)\u001b[0m\u001b[1;33m\u001b[0m\u001b[1;33m\u001b[0m\u001b[0m\n\u001b[0m\u001b[0;32m   3506\u001b[0m             \u001b[1;32mif\u001b[0m \u001b[0mis_integer\u001b[0m\u001b[1;33m(\u001b[0m\u001b[0mindexer\u001b[0m\u001b[1;33m)\u001b[0m\u001b[1;33m:\u001b[0m\u001b[1;33m\u001b[0m\u001b[1;33m\u001b[0m\u001b[0m\n\u001b[0;32m   3507\u001b[0m                 \u001b[0mindexer\u001b[0m \u001b[1;33m=\u001b[0m \u001b[1;33m[\u001b[0m\u001b[0mindexer\u001b[0m\u001b[1;33m]\u001b[0m\u001b[1;33m\u001b[0m\u001b[1;33m\u001b[0m\u001b[0m\n",
      "\u001b[1;32m~\\anaconda3\\lib\\site-packages\\pandas\\core\\indexes\\base.py\u001b[0m in \u001b[0;36mget_loc\u001b[1;34m(self, key, method, tolerance)\u001b[0m\n\u001b[0;32m   3629\u001b[0m                 \u001b[1;32mreturn\u001b[0m \u001b[0mself\u001b[0m\u001b[1;33m.\u001b[0m\u001b[0m_engine\u001b[0m\u001b[1;33m.\u001b[0m\u001b[0mget_loc\u001b[0m\u001b[1;33m(\u001b[0m\u001b[0mcasted_key\u001b[0m\u001b[1;33m)\u001b[0m\u001b[1;33m\u001b[0m\u001b[1;33m\u001b[0m\u001b[0m\n\u001b[0;32m   3630\u001b[0m             \u001b[1;32mexcept\u001b[0m \u001b[0mKeyError\u001b[0m \u001b[1;32mas\u001b[0m \u001b[0merr\u001b[0m\u001b[1;33m:\u001b[0m\u001b[1;33m\u001b[0m\u001b[1;33m\u001b[0m\u001b[0m\n\u001b[1;32m-> 3631\u001b[1;33m                 \u001b[1;32mraise\u001b[0m \u001b[0mKeyError\u001b[0m\u001b[1;33m(\u001b[0m\u001b[0mkey\u001b[0m\u001b[1;33m)\u001b[0m \u001b[1;32mfrom\u001b[0m \u001b[0merr\u001b[0m\u001b[1;33m\u001b[0m\u001b[1;33m\u001b[0m\u001b[0m\n\u001b[0m\u001b[0;32m   3632\u001b[0m             \u001b[1;32mexcept\u001b[0m \u001b[0mTypeError\u001b[0m\u001b[1;33m:\u001b[0m\u001b[1;33m\u001b[0m\u001b[1;33m\u001b[0m\u001b[0m\n\u001b[0;32m   3633\u001b[0m                 \u001b[1;31m# If we have a listlike key, _check_indexing_error will raise\u001b[0m\u001b[1;33m\u001b[0m\u001b[1;33m\u001b[0m\u001b[0m\n",
      "\u001b[1;31mKeyError\u001b[0m: 'Driven_Wheels_label'"
     ]
    }
   ],
   "source": [
    "def find_outliers_limit(df,col):\n",
    "    print(col)\n",
    "    print('-'*50)\n",
    "    #removing outliers\n",
    "    q25, q75 = np.percentile(df[col], 25), np.percentile(df[col], 75)\n",
    "    iqr = q75 - q25\n",
    "    print('Percentiles: 25th=%.3f, 75th=%.3f, IQR=%.3f' % (q25, q75, iqr))\n",
    "    # calculate the outlier cutoff\n",
    "    cut_off = iqr * 1.5\n",
    "    lower, upper = q25 - cut_off, q75 + cut_off\n",
    "    print('Lower:',lower,' Upper:',upper)\n",
    "    return lower,upper\n",
    "def remove_outlier(df,col,upper,lower):\n",
    "    # identify outliers\n",
    "    outliers = [x for x in df[col] if x ==upper]\n",
    "    print('Identified outliers: %d' % len(outliers))\n",
    "    # remove outliers\n",
    "    outliers_removed = [x for x in df[col] if x >= lower and x <= upper]\n",
    "    print('Non-outlier observations: %d' % len(outliers_removed))\n",
    "    final= np.where(df[col]>upper,upper,np.where(df[col]<lower,lower,df[col]))\n",
    "    return final\n",
    "outlier_cols=['Year','Number of Doors','highway MPG','city mpg','Popularity','MSRP','Make_label','Engine Fuel Type_label','Transmission Type_label','Vehicle Style_label']\n",
    "for col in outlier_cols:\n",
    "    lower,upper=find_outliers_limit(df,col)\n",
    "    df[col]=remove_outlier(df,col,upper,lower)"
   ]
  },
  {
   "cell_type": "code",
   "execution_count": 45,
   "id": "050570df",
   "metadata": {},
   "outputs": [
    {
     "name": "stdout",
     "output_type": "stream",
     "text": [
      "Total Number of rows in train: 8339\n",
      "Total Number of rows in test: 3575\n"
     ]
    }
   ],
   "source": [
    "import math\n",
    "data = df.sample(frac = 1)\n",
    "X = data.drop('MSRP', axis=1).values\n",
    "y = data['MSRP'].values\n",
    "s_f = 0.7\n",
    "n_train = math.floor(s_f * X.shape[0])\n",
    "n_test = math.ceil((1-s_f) * X.shape[0])\n",
    "X_train = X[:n_train]\n",
    "y_train = y[:n_train]\n",
    "X_test = X[n_train:]\n",
    "y_test = y[n_train:]\n",
    "print(\"Total Number of rows in train:\",X_train.shape[0])\n",
    "print(\"Total Number of rows in test:\",X_test.shape[0])"
   ]
  },
  {
   "cell_type": "code",
   "execution_count": 46,
   "id": "ed1ac8a4",
   "metadata": {},
   "outputs": [],
   "source": [
    "def minmax_scalar_multi(arrays):\n",
    "    \"\"\"\n",
    "    This function takes in a list of arrays and returns a list of normalized arrays using the MinMax scaler.\n",
    "    \"\"\"\n",
    "    normalized_arrays = []\n",
    "    for array in arrays:\n",
    "        array = np.array(array)\n",
    "        min_val = min(array)\n",
    "        max_val = max(array)\n",
    "        normalized_array = []\n",
    "        for val in array:\n",
    "            normalized_val = (val - min_val) / (max_val - min_val)\n",
    "            normalized_array.append(normalized_val)\n",
    "        normalized_arrays.append(normalized_array)\n",
    "    return normalized_arrays\n",
    "\n",
    "X_train_n = minmax_scalar_multi(X_train)\n",
    "X_test_n = minmax_scalar_multi(X_test)\n"
   ]
  },
  {
   "cell_type": "code",
   "execution_count": 47,
   "id": "8acfa44f",
   "metadata": {},
   "outputs": [],
   "source": [
    "class Node:\n",
    "    def __init__(self, feature_idx=None, threshold=None, left=None, right=None, value=None):\n",
    "        self.feature_idx = feature_idx # index of feature used for splitting at this node\n",
    "        self.threshold = threshold # threshold used for splitting at this node\n",
    "        self.left = left # left subtree\n",
    "        self.right = right # right subtree\n",
    "        self.value = value # predicted value for this node (leaf node)\n",
    "\n",
    "class DecisionTreeRegressor:\n",
    "    def __init__(self, max_depth=None, min_samples_split=2, min_samples_leaf=1):\n",
    "        self.max_depth = max_depth # maximum depth of tree\n",
    "        self.min_samples_split = min_samples_split # minimum number of samples required to split a node\n",
    "        self.min_samples_leaf = min_samples_leaf # minimum number of samples required in a leaf node\n",
    "        self.root = None # root node of tree\n",
    "        \n",
    "    def fit(self, X, y):\n",
    "        self.root = self._build_tree(X, y, depth=0)\n",
    "    \n",
    "    def predict(self, X):\n",
    "        return np.array([self._traverse(x, self.root) for x in X])\n",
    "    \n",
    "    def _build_tree(self, X, y, depth):\n",
    "        n_samples, n_features = X.shape\n",
    "        \n",
    "        \n",
    "        # check stopping criteria\n",
    "        if (depth == self.max_depth) or (n_samples < self.min_samples_split) or (len(np.unique(y)) == 1):\n",
    "            return Node(value=np.mean(y))\n",
    "        \n",
    "        # find best feature and threshold using F-test\n",
    "        best_fidx, best_thresh = None, None\n",
    "        best_fval = -np.inf\n",
    "        for fidx in range(n_features):\n",
    "            for thresh in np.unique(X[:, fidx]):\n",
    "                lidx = X[:, fidx] <= thresh\n",
    "                ridx = X[:, fidx] > thresh\n",
    "                if (np.sum(lidx) < self.min_samples_leaf) or (np.sum(ridx) < self.min_samples_leaf):\n",
    "                    continue\n",
    "                \n",
    "                fl, fr = y[lidx], y[ridx]\n",
    "                fl_var, fr_var = np.var(fl), np.var(fr)\n",
    "                fl_size, fr_size = len(fl), len(fr)\n",
    "                fval = (fl_size * fl_var + fr_size * fr_var) / (fl_size + fr_size)\n",
    "                ftest = ((np.sum(lidx) + np.sum(ridx) - 2) * fval) / (fl_var + fr_var)\n",
    "                \n",
    "                if ftest > best_fval:\n",
    "                    best_fval = ftest\n",
    "                    best_fidx = fidx\n",
    "                    best_thresh = thresh\n",
    "        \n",
    "        # split data and build subtrees\n",
    "        if best_fidx is not None and best_thresh is not None:\n",
    "            lidx = X[:, best_fidx] <= best_thresh\n",
    "            ridx = X[:, best_fidx] > best_thresh\n",
    "            left = self._build_tree(X[lidx, :], y[lidx], depth+1)\n",
    "            right = self._build_tree(X[ridx, :], y[ridx], depth+1)\n",
    "            return Node(best_fidx, best_thresh, left, right)\n",
    "    \n",
    "    def _traverse(self, x, node):\n",
    "        if node.value is not None:\n",
    "            return node.value\n",
    "        if x[node.feature_idx] <= node.threshold:\n",
    "            return self._traverse(x, node.left)\n",
    "        else:\n",
    "            return self._traverse(x, node.right)\n",
    "    \n",
    "    def score(self, x, y):\n",
    "        y_pred = self.predict(x)\n",
    "        mse = np.mean((y - y_pred) ** 2)\n",
    "        return 1 - mse / np.var(y)"
   ]
  },
  {
   "cell_type": "code",
   "execution_count": 48,
   "id": "66c6c4cd",
   "metadata": {},
   "outputs": [],
   "source": [
    "import numpy as np\n",
    "import itertools \n",
    "\n",
    "class GridSearchCV:\n",
    "    def __init__(self, estimator, param_grid, cv=3):\n",
    "        self.estimator = estimator\n",
    "        self.param_grid = param_grid\n",
    "        self.cv = cv\n",
    "    \n",
    "    def fit(self, X, y):\n",
    "        # Get all combinations of hyperparameters\n",
    "        param_combinations = self._get_param_combinations(self.param_grid)\n",
    "        \n",
    "        # Initialize variables to store results\n",
    "        best_params = None\n",
    "        best_score = -np.inf\n",
    "        \n",
    "        # Perform cross-validation\n",
    "        for params in param_combinations:\n",
    "            scores = []\n",
    "            for i in range(self.cv):\n",
    "                # Split data into training and validation sets\n",
    "                mask = np.ones(len(X), dtype=bool)\n",
    "                mask[i::self.cv] = False\n",
    "                X_train, y_train = X[mask], y[mask]\n",
    "                X_val, y_val = X[~mask], y[~mask]\n",
    "                \n",
    "                # Train model and compute score\n",
    "                model = self.estimator(**params)\n",
    "                model.fit(X_train, y_train)\n",
    "                score = model.score(X_val, y_val)\n",
    "                scores.append(score)\n",
    "            \n",
    "            # Compute average score for these hyperparameters\n",
    "            mean_score = np.mean(scores)\n",
    "            \n",
    "            # Update best hyperparameters if necessary\n",
    "            if mean_score > best_score:\n",
    "                best_params = params\n",
    "                best_score = mean_score\n",
    "        \n",
    "        # Train model with best hyperparameters on full dataset\n",
    "        self.best_estimator_ = self.estimator(**best_params)\n",
    "        self.best_estimator_.fit(X, y)\n",
    "        \n",
    "        return self\n",
    "    \n",
    "    def predict(self, X):\n",
    "        return self.best_estimator_.predict(X)\n",
    "    \n",
    "    def _get_param_combinations(self, param_grid):\n",
    "        keys = list(param_grid.keys())\n",
    "        values = list(param_grid.values())\n",
    "        param_combinations = []\n",
    "        for combination in itertools.product(*values):\n",
    "            params = {keys[i]: combination[i] for i in range(len(keys))}\n",
    "            param_combinations.append(params)\n",
    "        return param_combinations\n",
    "    \n",
    "param_grid = {'max_depth': [100, 200, 300, 400], 'min_samples_split': [20, 30, 40, 50]}\n",
    "\n",
    "#from sklearn.tree import DecisionTreeRegressor\n",
    "\n",
    "estimator = DecisionTreeRegressor\n",
    "cv = 3\n",
    "\n",
    "grid_search = GridSearchCV(estimator, param_grid, cv=cv)\n",
    "\n",
    "\n",
    "X_train1 = np.array(X_train_n)\n",
    "grid_search.fit(X_train1,y_train)\n",
    "y_pred=grid_search.predict(X_test_n)\n",
    "y_pred1=grid_search.predict(X_train1)\n",
    "best_estimator = grid_search.best_estimator_"
   ]
  },
  {
   "cell_type": "code",
   "execution_count": 49,
   "id": "9104aeb7",
   "metadata": {},
   "outputs": [],
   "source": [
    "def train_score(y_train, y_pred1):\n",
    "    mean_y_train = sum(y_train) / len(y_train)\n",
    "    sst = sum([(y - mean_y_train)**2 for y in y_train])\n",
    "    ssr = sum([(y - yp)**2 for y, yp in zip(y_train, y_pred1)])\n",
    "    r2 = 1 - (ssr / sst)\n",
    "    return r2"
   ]
  },
  {
   "cell_type": "code",
   "execution_count": 50,
   "id": "1a0b9bf0",
   "metadata": {},
   "outputs": [
    {
     "data": {
      "text/plain": [
       "0.5246044099338432"
      ]
     },
     "execution_count": 50,
     "metadata": {},
     "output_type": "execute_result"
    }
   ],
   "source": [
    "train_acc=train_score(y_train, y_pred1)\n",
    "train_acc"
   ]
  },
  {
   "cell_type": "code",
   "execution_count": 51,
   "id": "4804e0b2",
   "metadata": {},
   "outputs": [],
   "source": [
    "def test_score(y_test, y_pred):\n",
    "    mean_y_test = sum(y_test) / len(y_test)\n",
    "    sst = sum([(y - mean_y_test)**2 for y in y_test])\n",
    "    ssr = sum([(y - yp)**2 for y, yp in zip(y_test, y_pred)])\n",
    "    r2 = 1 - (ssr / sst)\n",
    "    return r2"
   ]
  },
  {
   "cell_type": "code",
   "execution_count": 52,
   "id": "3e7588d6",
   "metadata": {},
   "outputs": [
    {
     "data": {
      "text/plain": [
       "0.5086746833222633"
      ]
     },
     "execution_count": 52,
     "metadata": {},
     "output_type": "execute_result"
    }
   ],
   "source": [
    "test_acc=test_score(y_test, y_pred)\n",
    "test_acc"
   ]
  },
  {
   "cell_type": "code",
   "execution_count": 53,
   "id": "21b3021e",
   "metadata": {},
   "outputs": [
    {
     "name": "stdout",
     "output_type": "stream",
     "text": [
      "The decision tree is not overfitting\n"
     ]
    }
   ],
   "source": [
    "if train_acc - test_acc > 0.1:\n",
    "    print(\"The decision tree is likely overfitting\")\n",
    "else:\n",
    "    print(\"The decision tree is not overfitting\")"
   ]
  },
  {
   "cell_type": "code",
   "execution_count": null,
   "id": "7c9c8caa",
   "metadata": {},
   "outputs": [],
   "source": [
    "cv=3\n",
    "true true false true true false"
   ]
  },
  {
   "cell_type": "code",
   "execution_count": null,
   "id": "edaec66d",
   "metadata": {},
   "outputs": [],
   "source": []
  }
 ],
 "metadata": {
  "kernelspec": {
   "display_name": "Python 3 (ipykernel)",
   "language": "python",
   "name": "python3"
  },
  "language_info": {
   "codemirror_mode": {
    "name": "ipython",
    "version": 3
   },
   "file_extension": ".py",
   "mimetype": "text/x-python",
   "name": "python",
   "nbconvert_exporter": "python",
   "pygments_lexer": "ipython3",
   "version": "3.9.13"
  }
 },
 "nbformat": 4,
 "nbformat_minor": 5
}
