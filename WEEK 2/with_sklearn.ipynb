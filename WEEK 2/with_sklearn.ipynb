{
 "cells": [
  {
   "cell_type": "markdown",
   "id": "76970f39",
   "metadata": {},
   "source": [
    "The dataset I’m using here to train a car price prediction model was downloaded from Kaggle. It contains data about all the main features that contribute to the price of a car and to know Which variables are significant in predicting the price of a car\n",
    "How well those variables describe the price of a car. So let’s start this task by importing the necessary Python libraries and the dataset:"
   ]
  },
  {
   "cell_type": "code",
   "execution_count": 1,
   "id": "2d73ecc3",
   "metadata": {},
   "outputs": [],
   "source": [
    "# Importiang all necessary Libaries: Data Science Packages\n",
    "\n",
    "import numpy as np # numpy used for mathematical operation on array\n",
    "import pandas as pd  # pandas used for data manipulation on dataframe\n",
    "import seaborn as sns # seaborn used for data visualization\n",
    "import matplotlib.pyplot as plt # matplotlib used for data visualization\n",
    "import warnings\n",
    "warnings.filterwarnings('ignore')"
   ]
  },
  {
   "cell_type": "code",
   "execution_count": 2,
   "id": "372a6286",
   "metadata": {},
   "outputs": [
    {
     "data": {
      "text/html": [
       "<div>\n",
       "<style scoped>\n",
       "    .dataframe tbody tr th:only-of-type {\n",
       "        vertical-align: middle;\n",
       "    }\n",
       "\n",
       "    .dataframe tbody tr th {\n",
       "        vertical-align: top;\n",
       "    }\n",
       "\n",
       "    .dataframe thead th {\n",
       "        text-align: right;\n",
       "    }\n",
       "</style>\n",
       "<table border=\"1\" class=\"dataframe\">\n",
       "  <thead>\n",
       "    <tr style=\"text-align: right;\">\n",
       "      <th></th>\n",
       "      <th>Make</th>\n",
       "      <th>Model</th>\n",
       "      <th>Year</th>\n",
       "      <th>Engine Fuel Type</th>\n",
       "      <th>Engine HP</th>\n",
       "      <th>Engine Cylinders</th>\n",
       "      <th>Transmission Type</th>\n",
       "      <th>Driven_Wheels</th>\n",
       "      <th>Number of Doors</th>\n",
       "      <th>Market Category</th>\n",
       "      <th>Vehicle Size</th>\n",
       "      <th>Vehicle Style</th>\n",
       "      <th>highway MPG</th>\n",
       "      <th>city mpg</th>\n",
       "      <th>Popularity</th>\n",
       "      <th>MSRP</th>\n",
       "    </tr>\n",
       "  </thead>\n",
       "  <tbody>\n",
       "    <tr>\n",
       "      <th>0</th>\n",
       "      <td>BMW</td>\n",
       "      <td>1 Series M</td>\n",
       "      <td>2011</td>\n",
       "      <td>premium unleaded (required)</td>\n",
       "      <td>335.0</td>\n",
       "      <td>6.0</td>\n",
       "      <td>MANUAL</td>\n",
       "      <td>rear wheel drive</td>\n",
       "      <td>2.0</td>\n",
       "      <td>Factory Tuner,Luxury,High-Performance</td>\n",
       "      <td>Compact</td>\n",
       "      <td>Coupe</td>\n",
       "      <td>26</td>\n",
       "      <td>19</td>\n",
       "      <td>3916</td>\n",
       "      <td>46135</td>\n",
       "    </tr>\n",
       "    <tr>\n",
       "      <th>1</th>\n",
       "      <td>BMW</td>\n",
       "      <td>1 Series</td>\n",
       "      <td>2011</td>\n",
       "      <td>premium unleaded (required)</td>\n",
       "      <td>300.0</td>\n",
       "      <td>6.0</td>\n",
       "      <td>MANUAL</td>\n",
       "      <td>rear wheel drive</td>\n",
       "      <td>2.0</td>\n",
       "      <td>Luxury,Performance</td>\n",
       "      <td>Compact</td>\n",
       "      <td>Convertible</td>\n",
       "      <td>28</td>\n",
       "      <td>19</td>\n",
       "      <td>3916</td>\n",
       "      <td>40650</td>\n",
       "    </tr>\n",
       "    <tr>\n",
       "      <th>2</th>\n",
       "      <td>BMW</td>\n",
       "      <td>1 Series</td>\n",
       "      <td>2011</td>\n",
       "      <td>premium unleaded (required)</td>\n",
       "      <td>300.0</td>\n",
       "      <td>6.0</td>\n",
       "      <td>MANUAL</td>\n",
       "      <td>rear wheel drive</td>\n",
       "      <td>2.0</td>\n",
       "      <td>Luxury,High-Performance</td>\n",
       "      <td>Compact</td>\n",
       "      <td>Coupe</td>\n",
       "      <td>28</td>\n",
       "      <td>20</td>\n",
       "      <td>3916</td>\n",
       "      <td>36350</td>\n",
       "    </tr>\n",
       "    <tr>\n",
       "      <th>3</th>\n",
       "      <td>BMW</td>\n",
       "      <td>1 Series</td>\n",
       "      <td>2011</td>\n",
       "      <td>premium unleaded (required)</td>\n",
       "      <td>230.0</td>\n",
       "      <td>6.0</td>\n",
       "      <td>MANUAL</td>\n",
       "      <td>rear wheel drive</td>\n",
       "      <td>2.0</td>\n",
       "      <td>Luxury,Performance</td>\n",
       "      <td>Compact</td>\n",
       "      <td>Coupe</td>\n",
       "      <td>28</td>\n",
       "      <td>18</td>\n",
       "      <td>3916</td>\n",
       "      <td>29450</td>\n",
       "    </tr>\n",
       "    <tr>\n",
       "      <th>4</th>\n",
       "      <td>BMW</td>\n",
       "      <td>1 Series</td>\n",
       "      <td>2011</td>\n",
       "      <td>premium unleaded (required)</td>\n",
       "      <td>230.0</td>\n",
       "      <td>6.0</td>\n",
       "      <td>MANUAL</td>\n",
       "      <td>rear wheel drive</td>\n",
       "      <td>2.0</td>\n",
       "      <td>Luxury</td>\n",
       "      <td>Compact</td>\n",
       "      <td>Convertible</td>\n",
       "      <td>28</td>\n",
       "      <td>18</td>\n",
       "      <td>3916</td>\n",
       "      <td>34500</td>\n",
       "    </tr>\n",
       "  </tbody>\n",
       "</table>\n",
       "</div>"
      ],
      "text/plain": [
       "  Make       Model  Year             Engine Fuel Type  Engine HP  \\\n",
       "0  BMW  1 Series M  2011  premium unleaded (required)      335.0   \n",
       "1  BMW    1 Series  2011  premium unleaded (required)      300.0   \n",
       "2  BMW    1 Series  2011  premium unleaded (required)      300.0   \n",
       "3  BMW    1 Series  2011  premium unleaded (required)      230.0   \n",
       "4  BMW    1 Series  2011  premium unleaded (required)      230.0   \n",
       "\n",
       "   Engine Cylinders Transmission Type     Driven_Wheels  Number of Doors  \\\n",
       "0               6.0            MANUAL  rear wheel drive              2.0   \n",
       "1               6.0            MANUAL  rear wheel drive              2.0   \n",
       "2               6.0            MANUAL  rear wheel drive              2.0   \n",
       "3               6.0            MANUAL  rear wheel drive              2.0   \n",
       "4               6.0            MANUAL  rear wheel drive              2.0   \n",
       "\n",
       "                         Market Category Vehicle Size Vehicle Style  \\\n",
       "0  Factory Tuner,Luxury,High-Performance      Compact         Coupe   \n",
       "1                     Luxury,Performance      Compact   Convertible   \n",
       "2                Luxury,High-Performance      Compact         Coupe   \n",
       "3                     Luxury,Performance      Compact         Coupe   \n",
       "4                                 Luxury      Compact   Convertible   \n",
       "\n",
       "   highway MPG  city mpg  Popularity   MSRP  \n",
       "0           26        19        3916  46135  \n",
       "1           28        19        3916  40650  \n",
       "2           28        20        3916  36350  \n",
       "3           28        18        3916  29450  \n",
       "4           28        18        3916  34500  "
      ]
     },
     "execution_count": 2,
     "metadata": {},
     "output_type": "execute_result"
    }
   ],
   "source": [
    "# Read the data with pandas\n",
    "# Reading first 10 Rows of the data\n",
    "df = pd.read_csv(\"C:/Users/csc/OneDrive/Desktop/data.csv\", header=0)\n",
    "df.head(5)"
   ]
  },
  {
   "cell_type": "code",
   "execution_count": 3,
   "id": "5ca9a608",
   "metadata": {},
   "outputs": [
    {
     "data": {
      "text/plain": [
       "(11914, 16)"
      ]
     },
     "execution_count": 3,
     "metadata": {},
     "output_type": "execute_result"
    }
   ],
   "source": [
    "# Checking the shape of the data\n",
    "df.shape"
   ]
  },
  {
   "cell_type": "code",
   "execution_count": 4,
   "id": "ee8dd2a3",
   "metadata": {},
   "outputs": [
    {
     "data": {
      "text/plain": [
       "Index(['Make', 'Model', 'Year', 'Engine Fuel Type', 'Engine HP',\n",
       "       'Engine Cylinders', 'Transmission Type', 'Driven_Wheels',\n",
       "       'Number of Doors', 'Market Category', 'Vehicle Size', 'Vehicle Style',\n",
       "       'highway MPG', 'city mpg', 'Popularity', 'MSRP'],\n",
       "      dtype='object')"
      ]
     },
     "execution_count": 4,
     "metadata": {},
     "output_type": "execute_result"
    }
   ],
   "source": [
    "#Reading the name of the columns\n",
    "df.columns"
   ]
  },
  {
   "cell_type": "code",
   "execution_count": 5,
   "id": "26cb59a6",
   "metadata": {},
   "outputs": [
    {
     "data": {
      "text/plain": [
       "Make                  object\n",
       "Model                 object\n",
       "Year                   int64\n",
       "Engine Fuel Type      object\n",
       "Engine HP            float64\n",
       "Engine Cylinders     float64\n",
       "Transmission Type     object\n",
       "Driven_Wheels         object\n",
       "Number of Doors      float64\n",
       "Market Category       object\n",
       "Vehicle Size          object\n",
       "Vehicle Style         object\n",
       "highway MPG            int64\n",
       "city mpg               int64\n",
       "Popularity             int64\n",
       "MSRP                   int64\n",
       "dtype: object"
      ]
     },
     "execution_count": 5,
     "metadata": {},
     "output_type": "execute_result"
    }
   ],
   "source": [
    "# Checking the data types of the attributes\n",
    "df.dtypes"
   ]
  },
  {
   "cell_type": "code",
   "execution_count": 6,
   "id": "7091cdff",
   "metadata": {},
   "outputs": [
    {
     "name": "stdout",
     "output_type": "stream",
     "text": [
      "<class 'pandas.core.frame.DataFrame'>\n",
      "RangeIndex: 11914 entries, 0 to 11913\n",
      "Data columns (total 16 columns):\n",
      " #   Column             Non-Null Count  Dtype  \n",
      "---  ------             --------------  -----  \n",
      " 0   Make               11914 non-null  object \n",
      " 1   Model              11914 non-null  object \n",
      " 2   Year               11914 non-null  int64  \n",
      " 3   Engine Fuel Type   11911 non-null  object \n",
      " 4   Engine HP          11845 non-null  float64\n",
      " 5   Engine Cylinders   11884 non-null  float64\n",
      " 6   Transmission Type  11914 non-null  object \n",
      " 7   Driven_Wheels      11914 non-null  object \n",
      " 8   Number of Doors    11908 non-null  float64\n",
      " 9   Market Category    8172 non-null   object \n",
      " 10  Vehicle Size       11914 non-null  object \n",
      " 11  Vehicle Style      11914 non-null  object \n",
      " 12  highway MPG        11914 non-null  int64  \n",
      " 13  city mpg           11914 non-null  int64  \n",
      " 14  Popularity         11914 non-null  int64  \n",
      " 15  MSRP               11914 non-null  int64  \n",
      "dtypes: float64(3), int64(5), object(8)\n",
      "memory usage: 1.5+ MB\n"
     ]
    }
   ],
   "source": [
    "#getting information(like non-null count and datatypes) about all attributes\n",
    "df.info()"
   ]
  },
  {
   "cell_type": "code",
   "execution_count": 7,
   "id": "764c1acf",
   "metadata": {},
   "outputs": [
    {
     "data": {
      "text/plain": [
       "Make                    0\n",
       "Model                   0\n",
       "Year                    0\n",
       "Engine Fuel Type        3\n",
       "Engine HP              69\n",
       "Engine Cylinders       30\n",
       "Transmission Type       0\n",
       "Driven_Wheels           0\n",
       "Number of Doors         6\n",
       "Market Category      3742\n",
       "Vehicle Size            0\n",
       "Vehicle Style           0\n",
       "highway MPG             0\n",
       "city mpg                0\n",
       "Popularity              0\n",
       "MSRP                    0\n",
       "dtype: int64"
      ]
     },
     "execution_count": 7,
     "metadata": {},
     "output_type": "execute_result"
    }
   ],
   "source": [
    "# Gives us count of missing values\n",
    "df.isnull().sum()"
   ]
  },
  {
   "cell_type": "code",
   "execution_count": 8,
   "id": "b3f58d56",
   "metadata": {},
   "outputs": [
    {
     "data": {
      "text/plain": [
       "Make                   48\n",
       "Model                 915\n",
       "Year                   28\n",
       "Engine Fuel Type       10\n",
       "Engine HP             356\n",
       "Engine Cylinders        9\n",
       "Transmission Type       5\n",
       "Driven_Wheels           4\n",
       "Number of Doors         3\n",
       "Market Category        71\n",
       "Vehicle Size            3\n",
       "Vehicle Style          16\n",
       "highway MPG            59\n",
       "city mpg               69\n",
       "Popularity             48\n",
       "MSRP                 6049\n",
       "dtype: int64"
      ]
     },
     "execution_count": 8,
     "metadata": {},
     "output_type": "execute_result"
    }
   ],
   "source": [
    "df.nunique()"
   ]
  },
  {
   "cell_type": "code",
   "execution_count": 9,
   "id": "5776f3be",
   "metadata": {},
   "outputs": [
    {
     "data": {
      "text/html": [
       "<div>\n",
       "<style scoped>\n",
       "    .dataframe tbody tr th:only-of-type {\n",
       "        vertical-align: middle;\n",
       "    }\n",
       "\n",
       "    .dataframe tbody tr th {\n",
       "        vertical-align: top;\n",
       "    }\n",
       "\n",
       "    .dataframe thead th {\n",
       "        text-align: right;\n",
       "    }\n",
       "</style>\n",
       "<table border=\"1\" class=\"dataframe\">\n",
       "  <thead>\n",
       "    <tr style=\"text-align: right;\">\n",
       "      <th></th>\n",
       "      <th>Year</th>\n",
       "      <th>Engine HP</th>\n",
       "      <th>Engine Cylinders</th>\n",
       "      <th>Number of Doors</th>\n",
       "      <th>highway MPG</th>\n",
       "      <th>city mpg</th>\n",
       "      <th>Popularity</th>\n",
       "      <th>MSRP</th>\n",
       "    </tr>\n",
       "  </thead>\n",
       "  <tbody>\n",
       "    <tr>\n",
       "      <th>count</th>\n",
       "      <td>11914.000000</td>\n",
       "      <td>11845.00000</td>\n",
       "      <td>11884.000000</td>\n",
       "      <td>11908.000000</td>\n",
       "      <td>11914.000000</td>\n",
       "      <td>11914.000000</td>\n",
       "      <td>11914.000000</td>\n",
       "      <td>1.191400e+04</td>\n",
       "    </tr>\n",
       "    <tr>\n",
       "      <th>mean</th>\n",
       "      <td>2010.384338</td>\n",
       "      <td>249.38607</td>\n",
       "      <td>5.628829</td>\n",
       "      <td>3.436093</td>\n",
       "      <td>26.637485</td>\n",
       "      <td>19.733255</td>\n",
       "      <td>1554.911197</td>\n",
       "      <td>4.059474e+04</td>\n",
       "    </tr>\n",
       "    <tr>\n",
       "      <th>std</th>\n",
       "      <td>7.579740</td>\n",
       "      <td>109.19187</td>\n",
       "      <td>1.780559</td>\n",
       "      <td>0.881315</td>\n",
       "      <td>8.863001</td>\n",
       "      <td>8.987798</td>\n",
       "      <td>1441.855347</td>\n",
       "      <td>6.010910e+04</td>\n",
       "    </tr>\n",
       "    <tr>\n",
       "      <th>min</th>\n",
       "      <td>1990.000000</td>\n",
       "      <td>55.00000</td>\n",
       "      <td>0.000000</td>\n",
       "      <td>2.000000</td>\n",
       "      <td>12.000000</td>\n",
       "      <td>7.000000</td>\n",
       "      <td>2.000000</td>\n",
       "      <td>2.000000e+03</td>\n",
       "    </tr>\n",
       "    <tr>\n",
       "      <th>25%</th>\n",
       "      <td>2007.000000</td>\n",
       "      <td>170.00000</td>\n",
       "      <td>4.000000</td>\n",
       "      <td>2.000000</td>\n",
       "      <td>22.000000</td>\n",
       "      <td>16.000000</td>\n",
       "      <td>549.000000</td>\n",
       "      <td>2.100000e+04</td>\n",
       "    </tr>\n",
       "    <tr>\n",
       "      <th>50%</th>\n",
       "      <td>2015.000000</td>\n",
       "      <td>227.00000</td>\n",
       "      <td>6.000000</td>\n",
       "      <td>4.000000</td>\n",
       "      <td>26.000000</td>\n",
       "      <td>18.000000</td>\n",
       "      <td>1385.000000</td>\n",
       "      <td>2.999500e+04</td>\n",
       "    </tr>\n",
       "    <tr>\n",
       "      <th>75%</th>\n",
       "      <td>2016.000000</td>\n",
       "      <td>300.00000</td>\n",
       "      <td>6.000000</td>\n",
       "      <td>4.000000</td>\n",
       "      <td>30.000000</td>\n",
       "      <td>22.000000</td>\n",
       "      <td>2009.000000</td>\n",
       "      <td>4.223125e+04</td>\n",
       "    </tr>\n",
       "    <tr>\n",
       "      <th>max</th>\n",
       "      <td>2017.000000</td>\n",
       "      <td>1001.00000</td>\n",
       "      <td>16.000000</td>\n",
       "      <td>4.000000</td>\n",
       "      <td>354.000000</td>\n",
       "      <td>137.000000</td>\n",
       "      <td>5657.000000</td>\n",
       "      <td>2.065902e+06</td>\n",
       "    </tr>\n",
       "  </tbody>\n",
       "</table>\n",
       "</div>"
      ],
      "text/plain": [
       "               Year    Engine HP  Engine Cylinders  Number of Doors  \\\n",
       "count  11914.000000  11845.00000      11884.000000     11908.000000   \n",
       "mean    2010.384338    249.38607          5.628829         3.436093   \n",
       "std        7.579740    109.19187          1.780559         0.881315   \n",
       "min     1990.000000     55.00000          0.000000         2.000000   \n",
       "25%     2007.000000    170.00000          4.000000         2.000000   \n",
       "50%     2015.000000    227.00000          6.000000         4.000000   \n",
       "75%     2016.000000    300.00000          6.000000         4.000000   \n",
       "max     2017.000000   1001.00000         16.000000         4.000000   \n",
       "\n",
       "        highway MPG      city mpg    Popularity          MSRP  \n",
       "count  11914.000000  11914.000000  11914.000000  1.191400e+04  \n",
       "mean      26.637485     19.733255   1554.911197  4.059474e+04  \n",
       "std        8.863001      8.987798   1441.855347  6.010910e+04  \n",
       "min       12.000000      7.000000      2.000000  2.000000e+03  \n",
       "25%       22.000000     16.000000    549.000000  2.100000e+04  \n",
       "50%       26.000000     18.000000   1385.000000  2.999500e+04  \n",
       "75%       30.000000     22.000000   2009.000000  4.223125e+04  \n",
       "max      354.000000    137.000000   5657.000000  2.065902e+06  "
      ]
     },
     "execution_count": 9,
     "metadata": {},
     "output_type": "execute_result"
    }
   ],
   "source": [
    "#descriptive statistics\n",
    "df.describe()"
   ]
  },
  {
   "cell_type": "code",
   "execution_count": 10,
   "id": "435983e5",
   "metadata": {},
   "outputs": [
    {
     "data": {
      "text/html": [
       "<div>\n",
       "<style scoped>\n",
       "    .dataframe tbody tr th:only-of-type {\n",
       "        vertical-align: middle;\n",
       "    }\n",
       "\n",
       "    .dataframe tbody tr th {\n",
       "        vertical-align: top;\n",
       "    }\n",
       "\n",
       "    .dataframe thead th {\n",
       "        text-align: right;\n",
       "    }\n",
       "</style>\n",
       "<table border=\"1\" class=\"dataframe\">\n",
       "  <thead>\n",
       "    <tr style=\"text-align: right;\">\n",
       "      <th></th>\n",
       "      <th>Make</th>\n",
       "      <th>Model</th>\n",
       "      <th>Engine Fuel Type</th>\n",
       "      <th>Transmission Type</th>\n",
       "      <th>Driven_Wheels</th>\n",
       "      <th>Market Category</th>\n",
       "      <th>Vehicle Size</th>\n",
       "      <th>Vehicle Style</th>\n",
       "    </tr>\n",
       "  </thead>\n",
       "  <tbody>\n",
       "    <tr>\n",
       "      <th>count</th>\n",
       "      <td>11914</td>\n",
       "      <td>11914</td>\n",
       "      <td>11911</td>\n",
       "      <td>11914</td>\n",
       "      <td>11914</td>\n",
       "      <td>8172</td>\n",
       "      <td>11914</td>\n",
       "      <td>11914</td>\n",
       "    </tr>\n",
       "    <tr>\n",
       "      <th>unique</th>\n",
       "      <td>48</td>\n",
       "      <td>915</td>\n",
       "      <td>10</td>\n",
       "      <td>5</td>\n",
       "      <td>4</td>\n",
       "      <td>71</td>\n",
       "      <td>3</td>\n",
       "      <td>16</td>\n",
       "    </tr>\n",
       "    <tr>\n",
       "      <th>top</th>\n",
       "      <td>Chevrolet</td>\n",
       "      <td>Silverado 1500</td>\n",
       "      <td>regular unleaded</td>\n",
       "      <td>AUTOMATIC</td>\n",
       "      <td>front wheel drive</td>\n",
       "      <td>Crossover</td>\n",
       "      <td>Compact</td>\n",
       "      <td>Sedan</td>\n",
       "    </tr>\n",
       "    <tr>\n",
       "      <th>freq</th>\n",
       "      <td>1123</td>\n",
       "      <td>156</td>\n",
       "      <td>7172</td>\n",
       "      <td>8266</td>\n",
       "      <td>4787</td>\n",
       "      <td>1110</td>\n",
       "      <td>4764</td>\n",
       "      <td>3048</td>\n",
       "    </tr>\n",
       "  </tbody>\n",
       "</table>\n",
       "</div>"
      ],
      "text/plain": [
       "             Make           Model  Engine Fuel Type Transmission Type  \\\n",
       "count       11914           11914             11911             11914   \n",
       "unique         48             915                10                 5   \n",
       "top     Chevrolet  Silverado 1500  regular unleaded         AUTOMATIC   \n",
       "freq         1123             156              7172              8266   \n",
       "\n",
       "            Driven_Wheels Market Category Vehicle Size Vehicle Style  \n",
       "count               11914            8172        11914         11914  \n",
       "unique                  4              71            3            16  \n",
       "top     front wheel drive       Crossover      Compact         Sedan  \n",
       "freq                 4787            1110         4764          3048  "
      ]
     },
     "execution_count": 10,
     "metadata": {},
     "output_type": "execute_result"
    }
   ],
   "source": [
    "#descriptive statistics for categorical columns\n",
    "df.describe(include=['object'])"
   ]
  },
  {
   "cell_type": "code",
   "execution_count": 11,
   "id": "0e51f22b",
   "metadata": {},
   "outputs": [
    {
     "data": {
      "image/png": "[encoded data removed]",
      "text/plain": [
       "<Figure size 640x480 with 1 Axes>"
      ]
     },
     "metadata": {},
     "output_type": "display_data"
    }
   ],
   "source": [
    "#countplot for number of doors\n",
    "sns.set_theme(style=\"darkgrid\")\n",
    "sns.countplot(x ='Number of Doors', data = df)\n",
    "plt.title('count of cars with two,three and four doors')\n",
    "# Show the plot\n",
    "plt.show()"
   ]
  },
  {
   "cell_type": "code",
   "execution_count": 12,
   "id": "ec8469dd",
   "metadata": {},
   "outputs": [
    {
     "data": {
      "image/png": "[encoded data removed]",
      "text/plain": [
       "<Figure size 1000x800 with 1 Axes>"
      ]
     },
     "metadata": {},
     "output_type": "display_data"
    }
   ],
   "source": [
    "#countplot for no. of engine cylinders\n",
    "plt.figure(figsize=(10,8))\n",
    "sns.set_theme(style=\"darkgrid\")\n",
    "sns.countplot(x ='Engine Cylinders', data = df)\n",
    "plt.title('Engine Cylinders')\n",
    "plt.show()"
   ]
  },
  {
   "cell_type": "code",
   "execution_count": 13,
   "id": "2a631995",
   "metadata": {},
   "outputs": [
    {
     "data": {
      "text/plain": [
       "(array([1.695e+03, 4.834e+03, 3.489e+03, 1.057e+03, 4.070e+02, 2.660e+02,\n",
       "        8.500e+01, 9.000e+00, 0.000e+00, 3.000e+00]),\n",
       " array([  55. ,  149.6,  244.2,  338.8,  433.4,  528. ,  622.6,  717.2,\n",
       "         811.8,  906.4, 1001. ]),\n",
       " <BarContainer object of 10 artists>)"
      ]
     },
     "execution_count": 13,
     "metadata": {},
     "output_type": "execute_result"
    },
    {
     "data": {
      "image/png": "[encoded data removed]",
      "text/plain": [
       "<Figure size 640x480 with 1 Axes>"
      ]
     },
     "metadata": {},
     "output_type": "display_data"
    }
   ],
   "source": [
    "#histogram plot for engine horsepower(tells us how frequent it appeared)\n",
    "plt.hist(df['Engine HP'])"
   ]
  },
  {
   "cell_type": "code",
   "execution_count": 14,
   "id": "fdb8e600",
   "metadata": {},
   "outputs": [
    {
     "data": {
      "text/plain": [
       "(array([7.116e+03, 4.504e+03, 1.820e+02, 4.600e+01, 0.000e+00, 3.000e+00,\n",
       "        1.500e+01, 9.000e+00, 9.000e+00, 3.000e+01]),\n",
       " array([  7.,  20.,  33.,  46.,  59.,  72.,  85.,  98., 111., 124., 137.]),\n",
       " <BarContainer object of 10 artists>)"
      ]
     },
     "execution_count": 14,
     "metadata": {},
     "output_type": "execute_result"
    },
    {
     "data": {
      "image/png": "[encoded data removed]",
      "text/plain": [
       "<Figure size 640x480 with 1 Axes>"
      ]
     },
     "metadata": {},
     "output_type": "display_data"
    }
   ],
   "source": [
    "#histogram plot for city mpg\n",
    "plt.hist(df['city mpg'])"
   ]
  },
  {
   "cell_type": "code",
   "execution_count": 15,
   "id": "ce6a4a60",
   "metadata": {},
   "outputs": [
    {
     "data": {
      "text/plain": [
       "<AxesSubplot:title={'center':'Manufacturer’s Suggested Retail Price Plot'}, xlabel='MSRP', ylabel='Density'>"
      ]
     },
     "execution_count": 15,
     "metadata": {},
     "output_type": "execute_result"
    },
    {
     "data": {
      "image/png": "[encoded data removed]",
      "text/plain": [
       "<Figure size 640x480 with 1 Axes>"
      ]
     },
     "metadata": {},
     "output_type": "display_data"
    }
   ],
   "source": [
    "#Distribution plot for MSRP\n",
    "plt.title('Manufacturer’s Suggested Retail Price Plot')\n",
    "sns.distplot(df.MSRP)"
   ]
  },
  {
   "cell_type": "markdown",
   "id": "755c3e71",
   "metadata": {},
   "source": [
    "imputing missing values with median(from the above visualization, we came to know that data is right skewed) and mode"
   ]
  },
  {
   "cell_type": "code",
   "execution_count": 16,
   "id": "0804b408",
   "metadata": {},
   "outputs": [],
   "source": [
    "df['Engine HP'].median()\n",
    "df['Engine HP'].fillna(value = df['Engine HP'].median(), inplace = True)"
   ]
  },
  {
   "cell_type": "code",
   "execution_count": 17,
   "id": "e4ff800f",
   "metadata": {},
   "outputs": [],
   "source": [
    "df['Engine Cylinders'].median()\n",
    "df['Engine Cylinders'].fillna(value = df['Engine Cylinders'].median(), inplace = True)"
   ]
  },
  {
   "cell_type": "code",
   "execution_count": 18,
   "id": "601eec3f",
   "metadata": {},
   "outputs": [],
   "source": [
    "df['Number of Doors'].median()\n",
    "df['Number of Doors'].fillna(value = df['Number of Doors'].median(), inplace = True)"
   ]
  },
  {
   "cell_type": "code",
   "execution_count": 19,
   "id": "5599c16e",
   "metadata": {},
   "outputs": [],
   "source": [
    "df['Engine Fuel Type'].mode()\n",
    "df['Engine Fuel Type'].fillna(value = df['Engine Fuel Type'].mode(), inplace = True)"
   ]
  },
  {
   "cell_type": "code",
   "execution_count": 20,
   "id": "dae4f741",
   "metadata": {},
   "outputs": [
    {
     "data": {
      "text/plain": [
       "Make                    0\n",
       "Model                   0\n",
       "Year                    0\n",
       "Engine Fuel Type        3\n",
       "Engine HP               0\n",
       "Engine Cylinders        0\n",
       "Transmission Type       0\n",
       "Driven_Wheels           0\n",
       "Number of Doors         0\n",
       "Market Category      3742\n",
       "Vehicle Size            0\n",
       "Vehicle Style           0\n",
       "highway MPG             0\n",
       "city mpg                0\n",
       "Popularity              0\n",
       "MSRP                    0\n",
       "dtype: int64"
      ]
     },
     "execution_count": 20,
     "metadata": {},
     "output_type": "execute_result"
    }
   ],
   "source": [
    "# Gives us count of missing values\n",
    "df.isnull().sum()"
   ]
  },
  {
   "cell_type": "code",
   "execution_count": 21,
   "id": "3f222f3b",
   "metadata": {},
   "outputs": [
    {
     "data": {
      "text/plain": [
       "Make                  object\n",
       "Model                 object\n",
       "Year                   int64\n",
       "Engine Fuel Type      object\n",
       "Engine HP            float64\n",
       "Engine Cylinders     float64\n",
       "Transmission Type     object\n",
       "Driven_Wheels         object\n",
       "Number of Doors      float64\n",
       "Market Category       object\n",
       "Vehicle Size          object\n",
       "Vehicle Style         object\n",
       "highway MPG            int64\n",
       "city mpg               int64\n",
       "Popularity             int64\n",
       "MSRP                   int64\n",
       "dtype: object"
      ]
     },
     "execution_count": 21,
     "metadata": {},
     "output_type": "execute_result"
    }
   ],
   "source": [
    "# Checking the data types of the attributes\n",
    "df.dtypes"
   ]
  },
  {
   "cell_type": "code",
   "execution_count": 22,
   "id": "b9f3dd8e",
   "metadata": {},
   "outputs": [
    {
     "data": {
      "text/plain": [
       "Make                   48\n",
       "Model                 915\n",
       "Year                   28\n",
       "Engine Fuel Type       10\n",
       "Engine HP             356\n",
       "Engine Cylinders        9\n",
       "Transmission Type       5\n",
       "Driven_Wheels           4\n",
       "Number of Doors         3\n",
       "Market Category        71\n",
       "Vehicle Size            3\n",
       "Vehicle Style          16\n",
       "highway MPG            59\n",
       "city mpg               69\n",
       "Popularity             48\n",
       "MSRP                 6049\n",
       "dtype: int64"
      ]
     },
     "execution_count": 22,
     "metadata": {},
     "output_type": "execute_result"
    }
   ],
   "source": [
    "# Identifying unique values \n",
    "df.nunique()"
   ]
  },
  {
   "cell_type": "code",
   "execution_count": 23,
   "id": "c7e6929f",
   "metadata": {},
   "outputs": [
    {
     "data": {
      "text/plain": [
       "<seaborn.axisgrid.FacetGrid at 0x16a504586d0>"
      ]
     },
     "execution_count": 23,
     "metadata": {},
     "output_type": "execute_result"
    },
    {
     "data": {
      "image/png": "[encoded data removed]",
      "text/plain": [
       "<Figure size 500x500 with 1 Axes>"
      ]
     },
     "metadata": {},
     "output_type": "display_data"
    }
   ],
   "source": [
    "sns.catplot(x=\"Vehicle Size\", y=\"MSRP\", kind=\"bar\", data=df)"
   ]
  },
  {
   "cell_type": "markdown",
   "id": "55cf4347",
   "metadata": {},
   "source": [
    "to convert categorical columns into numerical"
   ]
  },
  {
   "cell_type": "code",
   "execution_count": 24,
   "id": "7bb2015f",
   "metadata": {},
   "outputs": [],
   "source": [
    "from sklearn import preprocessing\n",
    "  \n",
    "# label_encoder object knows how to understand word labels.\n",
    "label_encoder = preprocessing.LabelEncoder()\n",
    "  \n",
    "# Encode labels in column 'species'.\n",
    "df['Make']= label_encoder.fit_transform(df['Make'])\n",
    "df['Engine Fuel Type']= label_encoder.fit_transform(df['Engine Fuel Type'])\n",
    "df['Transmission Type']= label_encoder.fit_transform(df['Transmission Type'])\n",
    "df['Driven_Wheels']= label_encoder.fit_transform(df['Driven_Wheels'])\n",
    "df['Vehicle Size']= label_encoder.fit_transform(df['Vehicle Size'])\n",
    "df['Vehicle Style']= label_encoder.fit_transform(df['Vehicle Style'])"
   ]
  },
  {
   "cell_type": "code",
   "execution_count": 25,
   "id": "2188b51b",
   "metadata": {},
   "outputs": [
    {
     "data": {
      "text/plain": [
       "Make                   int32\n",
       "Model                 object\n",
       "Year                   int64\n",
       "Engine Fuel Type       int32\n",
       "Engine HP            float64\n",
       "Engine Cylinders     float64\n",
       "Transmission Type      int32\n",
       "Driven_Wheels          int32\n",
       "Number of Doors      float64\n",
       "Market Category       object\n",
       "Vehicle Size           int32\n",
       "Vehicle Style          int32\n",
       "highway MPG            int64\n",
       "city mpg               int64\n",
       "Popularity             int64\n",
       "MSRP                   int64\n",
       "dtype: object"
      ]
     },
     "execution_count": 25,
     "metadata": {},
     "output_type": "execute_result"
    }
   ],
   "source": [
    "df.dtypes"
   ]
  },
  {
   "cell_type": "code",
   "execution_count": 26,
   "id": "8f767a8c",
   "metadata": {},
   "outputs": [
    {
     "data": {
      "text/html": [
       "<div>\n",
       "<style scoped>\n",
       "    .dataframe tbody tr th:only-of-type {\n",
       "        vertical-align: middle;\n",
       "    }\n",
       "\n",
       "    .dataframe tbody tr th {\n",
       "        vertical-align: top;\n",
       "    }\n",
       "\n",
       "    .dataframe thead th {\n",
       "        text-align: right;\n",
       "    }\n",
       "</style>\n",
       "<table border=\"1\" class=\"dataframe\">\n",
       "  <thead>\n",
       "    <tr style=\"text-align: right;\">\n",
       "      <th></th>\n",
       "      <th>Make</th>\n",
       "      <th>Year</th>\n",
       "      <th>Engine Fuel Type</th>\n",
       "      <th>Engine HP</th>\n",
       "      <th>Engine Cylinders</th>\n",
       "      <th>Transmission Type</th>\n",
       "      <th>Driven_Wheels</th>\n",
       "      <th>Number of Doors</th>\n",
       "      <th>Vehicle Size</th>\n",
       "      <th>Vehicle Style</th>\n",
       "      <th>highway MPG</th>\n",
       "      <th>city mpg</th>\n",
       "      <th>Popularity</th>\n",
       "      <th>MSRP</th>\n",
       "    </tr>\n",
       "  </thead>\n",
       "  <tbody>\n",
       "    <tr>\n",
       "      <th>Make</th>\n",
       "      <td>1.000000</td>\n",
       "      <td>-0.013936</td>\n",
       "      <td>0.116000</td>\n",
       "      <td>-0.226445</td>\n",
       "      <td>-0.263837</td>\n",
       "      <td>0.045022</td>\n",
       "      <td>-0.035689</td>\n",
       "      <td>0.057339</td>\n",
       "      <td>-0.102262</td>\n",
       "      <td>-0.057137</td>\n",
       "      <td>0.133242</td>\n",
       "      <td>0.150862</td>\n",
       "      <td>-0.297651</td>\n",
       "      <td>-0.107331</td>\n",
       "    </tr>\n",
       "    <tr>\n",
       "      <th>Year</th>\n",
       "      <td>-0.013936</td>\n",
       "      <td>1.000000</td>\n",
       "      <td>-0.254002</td>\n",
       "      <td>0.350573</td>\n",
       "      <td>-0.041459</td>\n",
       "      <td>-0.361553</td>\n",
       "      <td>-0.183914</td>\n",
       "      <td>0.263946</td>\n",
       "      <td>0.102098</td>\n",
       "      <td>-0.067713</td>\n",
       "      <td>0.258240</td>\n",
       "      <td>0.198171</td>\n",
       "      <td>0.073049</td>\n",
       "      <td>0.227590</td>\n",
       "    </tr>\n",
       "    <tr>\n",
       "      <th>Engine Fuel Type</th>\n",
       "      <td>0.116000</td>\n",
       "      <td>-0.254002</td>\n",
       "      <td>1.000000</td>\n",
       "      <td>-0.194916</td>\n",
       "      <td>-0.076684</td>\n",
       "      <td>0.123393</td>\n",
       "      <td>0.019074</td>\n",
       "      <td>-0.004703</td>\n",
       "      <td>-0.048840</td>\n",
       "      <td>-0.044001</td>\n",
       "      <td>-0.171581</td>\n",
       "      <td>-0.184774</td>\n",
       "      <td>-0.059557</td>\n",
       "      <td>-0.114816</td>\n",
       "    </tr>\n",
       "    <tr>\n",
       "      <th>Engine HP</th>\n",
       "      <td>-0.226445</td>\n",
       "      <td>0.350573</td>\n",
       "      <td>-0.194916</td>\n",
       "      <td>1.000000</td>\n",
       "      <td>0.767037</td>\n",
       "      <td>-0.238357</td>\n",
       "      <td>-0.035007</td>\n",
       "      <td>-0.102934</td>\n",
       "      <td>0.207912</td>\n",
       "      <td>0.013490</td>\n",
       "      <td>-0.359457</td>\n",
       "      <td>-0.353894</td>\n",
       "      <td>0.036823</td>\n",
       "      <td>0.661402</td>\n",
       "    </tr>\n",
       "    <tr>\n",
       "      <th>Engine Cylinders</th>\n",
       "      <td>-0.263837</td>\n",
       "      <td>-0.041459</td>\n",
       "      <td>-0.076684</td>\n",
       "      <td>0.767037</td>\n",
       "      <td>1.000000</td>\n",
       "      <td>-0.164482</td>\n",
       "      <td>0.087577</td>\n",
       "      <td>-0.140026</td>\n",
       "      <td>0.195037</td>\n",
       "      <td>0.032725</td>\n",
       "      <td>-0.600947</td>\n",
       "      <td>-0.565124</td>\n",
       "      <td>0.040815</td>\n",
       "      <td>0.531139</td>\n",
       "    </tr>\n",
       "    <tr>\n",
       "      <th>Transmission Type</th>\n",
       "      <td>0.045022</td>\n",
       "      <td>-0.361553</td>\n",
       "      <td>0.123393</td>\n",
       "      <td>-0.238357</td>\n",
       "      <td>-0.164482</td>\n",
       "      <td>1.000000</td>\n",
       "      <td>0.173338</td>\n",
       "      <td>-0.335432</td>\n",
       "      <td>-0.305262</td>\n",
       "      <td>-0.035039</td>\n",
       "      <td>0.044252</td>\n",
       "      <td>0.048807</td>\n",
       "      <td>0.010095</td>\n",
       "      <td>-0.181742</td>\n",
       "    </tr>\n",
       "    <tr>\n",
       "      <th>Driven_Wheels</th>\n",
       "      <td>-0.035689</td>\n",
       "      <td>-0.183914</td>\n",
       "      <td>0.019074</td>\n",
       "      <td>-0.035007</td>\n",
       "      <td>0.087577</td>\n",
       "      <td>0.173338</td>\n",
       "      <td>1.000000</td>\n",
       "      <td>-0.253983</td>\n",
       "      <td>-0.132160</td>\n",
       "      <td>0.099985</td>\n",
       "      <td>-0.003503</td>\n",
       "      <td>-0.011236</td>\n",
       "      <td>0.026987</td>\n",
       "      <td>-0.037943</td>\n",
       "    </tr>\n",
       "    <tr>\n",
       "      <th>Number of Doors</th>\n",
       "      <td>0.057339</td>\n",
       "      <td>0.263946</td>\n",
       "      <td>-0.004703</td>\n",
       "      <td>-0.102934</td>\n",
       "      <td>-0.140026</td>\n",
       "      <td>-0.335432</td>\n",
       "      <td>-0.253983</td>\n",
       "      <td>1.000000</td>\n",
       "      <td>0.267075</td>\n",
       "      <td>0.202841</td>\n",
       "      <td>0.118925</td>\n",
       "      <td>0.121206</td>\n",
       "      <td>-0.048251</td>\n",
       "      <td>-0.126081</td>\n",
       "    </tr>\n",
       "    <tr>\n",
       "      <th>Vehicle Size</th>\n",
       "      <td>-0.102262</td>\n",
       "      <td>0.102098</td>\n",
       "      <td>-0.048840</td>\n",
       "      <td>0.207912</td>\n",
       "      <td>0.195037</td>\n",
       "      <td>-0.305262</td>\n",
       "      <td>-0.132160</td>\n",
       "      <td>0.267075</td>\n",
       "      <td>1.000000</td>\n",
       "      <td>0.166140</td>\n",
       "      <td>-0.111000</td>\n",
       "      <td>-0.142728</td>\n",
       "      <td>-0.003995</td>\n",
       "      <td>0.037162</td>\n",
       "    </tr>\n",
       "    <tr>\n",
       "      <th>Vehicle Style</th>\n",
       "      <td>-0.057137</td>\n",
       "      <td>-0.067713</td>\n",
       "      <td>-0.044001</td>\n",
       "      <td>0.013490</td>\n",
       "      <td>0.032725</td>\n",
       "      <td>-0.035039</td>\n",
       "      <td>0.099985</td>\n",
       "      <td>0.202841</td>\n",
       "      <td>0.166140</td>\n",
       "      <td>1.000000</td>\n",
       "      <td>0.027447</td>\n",
       "      <td>-0.041795</td>\n",
       "      <td>0.036024</td>\n",
       "      <td>-0.010193</td>\n",
       "    </tr>\n",
       "    <tr>\n",
       "      <th>highway MPG</th>\n",
       "      <td>0.133242</td>\n",
       "      <td>0.258240</td>\n",
       "      <td>-0.171581</td>\n",
       "      <td>-0.359457</td>\n",
       "      <td>-0.600947</td>\n",
       "      <td>0.044252</td>\n",
       "      <td>-0.003503</td>\n",
       "      <td>0.118925</td>\n",
       "      <td>-0.111000</td>\n",
       "      <td>0.027447</td>\n",
       "      <td>1.000000</td>\n",
       "      <td>0.886829</td>\n",
       "      <td>-0.020991</td>\n",
       "      <td>-0.160043</td>\n",
       "    </tr>\n",
       "    <tr>\n",
       "      <th>city mpg</th>\n",
       "      <td>0.150862</td>\n",
       "      <td>0.198171</td>\n",
       "      <td>-0.184774</td>\n",
       "      <td>-0.353894</td>\n",
       "      <td>-0.565124</td>\n",
       "      <td>0.048807</td>\n",
       "      <td>-0.011236</td>\n",
       "      <td>0.121206</td>\n",
       "      <td>-0.142728</td>\n",
       "      <td>-0.041795</td>\n",
       "      <td>0.886829</td>\n",
       "      <td>1.000000</td>\n",
       "      <td>-0.003217</td>\n",
       "      <td>-0.157676</td>\n",
       "    </tr>\n",
       "    <tr>\n",
       "      <th>Popularity</th>\n",
       "      <td>-0.297651</td>\n",
       "      <td>0.073049</td>\n",
       "      <td>-0.059557</td>\n",
       "      <td>0.036823</td>\n",
       "      <td>0.040815</td>\n",
       "      <td>0.010095</td>\n",
       "      <td>0.026987</td>\n",
       "      <td>-0.048251</td>\n",
       "      <td>-0.003995</td>\n",
       "      <td>0.036024</td>\n",
       "      <td>-0.020991</td>\n",
       "      <td>-0.003217</td>\n",
       "      <td>1.000000</td>\n",
       "      <td>-0.048476</td>\n",
       "    </tr>\n",
       "    <tr>\n",
       "      <th>MSRP</th>\n",
       "      <td>-0.107331</td>\n",
       "      <td>0.227590</td>\n",
       "      <td>-0.114816</td>\n",
       "      <td>0.661402</td>\n",
       "      <td>0.531139</td>\n",
       "      <td>-0.181742</td>\n",
       "      <td>-0.037943</td>\n",
       "      <td>-0.126081</td>\n",
       "      <td>0.037162</td>\n",
       "      <td>-0.010193</td>\n",
       "      <td>-0.160043</td>\n",
       "      <td>-0.157676</td>\n",
       "      <td>-0.048476</td>\n",
       "      <td>1.000000</td>\n",
       "    </tr>\n",
       "  </tbody>\n",
       "</table>\n",
       "</div>"
      ],
      "text/plain": [
       "                       Make      Year  Engine Fuel Type  Engine HP  \\\n",
       "Make               1.000000 -0.013936          0.116000  -0.226445   \n",
       "Year              -0.013936  1.000000         -0.254002   0.350573   \n",
       "Engine Fuel Type   0.116000 -0.254002          1.000000  -0.194916   \n",
       "Engine HP         -0.226445  0.350573         -0.194916   1.000000   \n",
       "Engine Cylinders  -0.263837 -0.041459         -0.076684   0.767037   \n",
       "Transmission Type  0.045022 -0.361553          0.123393  -0.238357   \n",
       "Driven_Wheels     -0.035689 -0.183914          0.019074  -0.035007   \n",
       "Number of Doors    0.057339  0.263946         -0.004703  -0.102934   \n",
       "Vehicle Size      -0.102262  0.102098         -0.048840   0.207912   \n",
       "Vehicle Style     -0.057137 -0.067713         -0.044001   0.013490   \n",
       "highway MPG        0.133242  0.258240         -0.171581  -0.359457   \n",
       "city mpg           0.150862  0.198171         -0.184774  -0.353894   \n",
       "Popularity        -0.297651  0.073049         -0.059557   0.036823   \n",
       "MSRP              -0.107331  0.227590         -0.114816   0.661402   \n",
       "\n",
       "                   Engine Cylinders  Transmission Type  Driven_Wheels  \\\n",
       "Make                      -0.263837           0.045022      -0.035689   \n",
       "Year                      -0.041459          -0.361553      -0.183914   \n",
       "Engine Fuel Type          -0.076684           0.123393       0.019074   \n",
       "Engine HP                  0.767037          -0.238357      -0.035007   \n",
       "Engine Cylinders           1.000000          -0.164482       0.087577   \n",
       "Transmission Type         -0.164482           1.000000       0.173338   \n",
       "Driven_Wheels              0.087577           0.173338       1.000000   \n",
       "Number of Doors           -0.140026          -0.335432      -0.253983   \n",
       "Vehicle Size               0.195037          -0.305262      -0.132160   \n",
       "Vehicle Style              0.032725          -0.035039       0.099985   \n",
       "highway MPG               -0.600947           0.044252      -0.003503   \n",
       "city mpg                  -0.565124           0.048807      -0.011236   \n",
       "Popularity                 0.040815           0.010095       0.026987   \n",
       "MSRP                       0.531139          -0.181742      -0.037943   \n",
       "\n",
       "                   Number of Doors  Vehicle Size  Vehicle Style  highway MPG  \\\n",
       "Make                      0.057339     -0.102262      -0.057137     0.133242   \n",
       "Year                      0.263946      0.102098      -0.067713     0.258240   \n",
       "Engine Fuel Type         -0.004703     -0.048840      -0.044001    -0.171581   \n",
       "Engine HP                -0.102934      0.207912       0.013490    -0.359457   \n",
       "Engine Cylinders         -0.140026      0.195037       0.032725    -0.600947   \n",
       "Transmission Type        -0.335432     -0.305262      -0.035039     0.044252   \n",
       "Driven_Wheels            -0.253983     -0.132160       0.099985    -0.003503   \n",
       "Number of Doors           1.000000      0.267075       0.202841     0.118925   \n",
       "Vehicle Size              0.267075      1.000000       0.166140    -0.111000   \n",
       "Vehicle Style             0.202841      0.166140       1.000000     0.027447   \n",
       "highway MPG               0.118925     -0.111000       0.027447     1.000000   \n",
       "city mpg                  0.121206     -0.142728      -0.041795     0.886829   \n",
       "Popularity               -0.048251     -0.003995       0.036024    -0.020991   \n",
       "MSRP                     -0.126081      0.037162      -0.010193    -0.160043   \n",
       "\n",
       "                   city mpg  Popularity      MSRP  \n",
       "Make               0.150862   -0.297651 -0.107331  \n",
       "Year               0.198171    0.073049  0.227590  \n",
       "Engine Fuel Type  -0.184774   -0.059557 -0.114816  \n",
       "Engine HP         -0.353894    0.036823  0.661402  \n",
       "Engine Cylinders  -0.565124    0.040815  0.531139  \n",
       "Transmission Type  0.048807    0.010095 -0.181742  \n",
       "Driven_Wheels     -0.011236    0.026987 -0.037943  \n",
       "Number of Doors    0.121206   -0.048251 -0.126081  \n",
       "Vehicle Size      -0.142728   -0.003995  0.037162  \n",
       "Vehicle Style     -0.041795    0.036024 -0.010193  \n",
       "highway MPG        0.886829   -0.020991 -0.160043  \n",
       "city mpg           1.000000   -0.003217 -0.157676  \n",
       "Popularity        -0.003217    1.000000 -0.048476  \n",
       "MSRP              -0.157676   -0.048476  1.000000  "
      ]
     },
     "execution_count": 26,
     "metadata": {},
     "output_type": "execute_result"
    }
   ],
   "source": [
    "# calculating the correlation of complete dataset\n",
    "\n",
    "corr = df.corr()\n",
    "corr"
   ]
  },
  {
   "cell_type": "code",
   "execution_count": 27,
   "id": "1a181470",
   "metadata": {},
   "outputs": [
    {
     "data": {
      "text/html": [
       "<div>\n",
       "<style scoped>\n",
       "    .dataframe tbody tr th:only-of-type {\n",
       "        vertical-align: middle;\n",
       "    }\n",
       "\n",
       "    .dataframe tbody tr th {\n",
       "        vertical-align: top;\n",
       "    }\n",
       "\n",
       "    .dataframe thead th {\n",
       "        text-align: right;\n",
       "    }\n",
       "</style>\n",
       "<table border=\"1\" class=\"dataframe\">\n",
       "  <thead>\n",
       "    <tr style=\"text-align: right;\">\n",
       "      <th></th>\n",
       "      <th>Make</th>\n",
       "      <th>Model</th>\n",
       "      <th>Year</th>\n",
       "      <th>Engine Fuel Type</th>\n",
       "      <th>Engine HP</th>\n",
       "      <th>Engine Cylinders</th>\n",
       "      <th>Transmission Type</th>\n",
       "      <th>Driven_Wheels</th>\n",
       "      <th>Number of Doors</th>\n",
       "      <th>Market Category</th>\n",
       "      <th>Vehicle Size</th>\n",
       "      <th>Vehicle Style</th>\n",
       "      <th>highway MPG</th>\n",
       "      <th>city mpg</th>\n",
       "      <th>Popularity</th>\n",
       "      <th>MSRP</th>\n",
       "    </tr>\n",
       "  </thead>\n",
       "  <tbody>\n",
       "    <tr>\n",
       "      <th>0</th>\n",
       "      <td>4</td>\n",
       "      <td>1 Series M</td>\n",
       "      <td>2011</td>\n",
       "      <td>8</td>\n",
       "      <td>335.0</td>\n",
       "      <td>6.0</td>\n",
       "      <td>3</td>\n",
       "      <td>3</td>\n",
       "      <td>2.0</td>\n",
       "      <td>Factory Tuner,Luxury,High-Performance</td>\n",
       "      <td>0</td>\n",
       "      <td>8</td>\n",
       "      <td>26</td>\n",
       "      <td>19</td>\n",
       "      <td>3916</td>\n",
       "      <td>46135</td>\n",
       "    </tr>\n",
       "    <tr>\n",
       "      <th>1</th>\n",
       "      <td>4</td>\n",
       "      <td>1 Series</td>\n",
       "      <td>2011</td>\n",
       "      <td>8</td>\n",
       "      <td>300.0</td>\n",
       "      <td>6.0</td>\n",
       "      <td>3</td>\n",
       "      <td>3</td>\n",
       "      <td>2.0</td>\n",
       "      <td>Luxury,Performance</td>\n",
       "      <td>0</td>\n",
       "      <td>6</td>\n",
       "      <td>28</td>\n",
       "      <td>19</td>\n",
       "      <td>3916</td>\n",
       "      <td>40650</td>\n",
       "    </tr>\n",
       "    <tr>\n",
       "      <th>2</th>\n",
       "      <td>4</td>\n",
       "      <td>1 Series</td>\n",
       "      <td>2011</td>\n",
       "      <td>8</td>\n",
       "      <td>300.0</td>\n",
       "      <td>6.0</td>\n",
       "      <td>3</td>\n",
       "      <td>3</td>\n",
       "      <td>2.0</td>\n",
       "      <td>Luxury,High-Performance</td>\n",
       "      <td>0</td>\n",
       "      <td>8</td>\n",
       "      <td>28</td>\n",
       "      <td>20</td>\n",
       "      <td>3916</td>\n",
       "      <td>36350</td>\n",
       "    </tr>\n",
       "    <tr>\n",
       "      <th>3</th>\n",
       "      <td>4</td>\n",
       "      <td>1 Series</td>\n",
       "      <td>2011</td>\n",
       "      <td>8</td>\n",
       "      <td>230.0</td>\n",
       "      <td>6.0</td>\n",
       "      <td>3</td>\n",
       "      <td>3</td>\n",
       "      <td>2.0</td>\n",
       "      <td>Luxury,Performance</td>\n",
       "      <td>0</td>\n",
       "      <td>8</td>\n",
       "      <td>28</td>\n",
       "      <td>18</td>\n",
       "      <td>3916</td>\n",
       "      <td>29450</td>\n",
       "    </tr>\n",
       "    <tr>\n",
       "      <th>4</th>\n",
       "      <td>4</td>\n",
       "      <td>1 Series</td>\n",
       "      <td>2011</td>\n",
       "      <td>8</td>\n",
       "      <td>230.0</td>\n",
       "      <td>6.0</td>\n",
       "      <td>3</td>\n",
       "      <td>3</td>\n",
       "      <td>2.0</td>\n",
       "      <td>Luxury</td>\n",
       "      <td>0</td>\n",
       "      <td>6</td>\n",
       "      <td>28</td>\n",
       "      <td>18</td>\n",
       "      <td>3916</td>\n",
       "      <td>34500</td>\n",
       "    </tr>\n",
       "  </tbody>\n",
       "</table>\n",
       "</div>"
      ],
      "text/plain": [
       "   Make       Model  Year  Engine Fuel Type  Engine HP  Engine Cylinders  \\\n",
       "0     4  1 Series M  2011                 8      335.0               6.0   \n",
       "1     4    1 Series  2011                 8      300.0               6.0   \n",
       "2     4    1 Series  2011                 8      300.0               6.0   \n",
       "3     4    1 Series  2011                 8      230.0               6.0   \n",
       "4     4    1 Series  2011                 8      230.0               6.0   \n",
       "\n",
       "   Transmission Type  Driven_Wheels  Number of Doors  \\\n",
       "0                  3              3              2.0   \n",
       "1                  3              3              2.0   \n",
       "2                  3              3              2.0   \n",
       "3                  3              3              2.0   \n",
       "4                  3              3              2.0   \n",
       "\n",
       "                         Market Category  Vehicle Size  Vehicle Style  \\\n",
       "0  Factory Tuner,Luxury,High-Performance             0              8   \n",
       "1                     Luxury,Performance             0              6   \n",
       "2                Luxury,High-Performance             0              8   \n",
       "3                     Luxury,Performance             0              8   \n",
       "4                                 Luxury             0              6   \n",
       "\n",
       "   highway MPG  city mpg  Popularity   MSRP  \n",
       "0           26        19        3916  46135  \n",
       "1           28        19        3916  40650  \n",
       "2           28        20        3916  36350  \n",
       "3           28        18        3916  29450  \n",
       "4           28        18        3916  34500  "
      ]
     },
     "execution_count": 27,
     "metadata": {},
     "output_type": "execute_result"
    }
   ],
   "source": [
    "df.head()"
   ]
  },
  {
   "cell_type": "code",
   "execution_count": 28,
   "id": "fd5d69c3",
   "metadata": {},
   "outputs": [
    {
     "data": {
      "text/plain": [
       "<AxesSubplot:>"
      ]
     },
     "execution_count": 28,
     "metadata": {},
     "output_type": "execute_result"
    },
    {
     "data": {
      "image/png": "[encoded data removed]",
      "text/plain": [
       "<Figure size 640x480 with 2 Axes>"
      ]
     },
     "metadata": {},
     "output_type": "display_data"
    }
   ],
   "source": [
    "# Visulaizing the heatmap of complete dataset\n",
    "\n",
    "sns.heatmap(corr)"
   ]
  },
  {
   "cell_type": "code",
   "execution_count": 29,
   "id": "ff8e7294",
   "metadata": {},
   "outputs": [],
   "source": [
    "df1 = pd.read_csv(\"C:/Users/csc/OneDrive/Desktop/data.csv\", header=0)"
   ]
  },
  {
   "cell_type": "code",
   "execution_count": 30,
   "id": "5885eadc",
   "metadata": {},
   "outputs": [
    {
     "data": {
      "text/plain": [
       "array(['premium unleaded (required)', 'regular unleaded',\n",
       "       'premium unleaded (recommended)', 'flex-fuel (unleaded/E85)',\n",
       "       'diesel', 'electric',\n",
       "       'flex-fuel (premium unleaded recommended/E85)', 'natural gas',\n",
       "       'flex-fuel (premium unleaded required/E85)',\n",
       "       'flex-fuel (unleaded/natural gas)', nan], dtype=object)"
      ]
     },
     "execution_count": 30,
     "metadata": {},
     "output_type": "execute_result"
    }
   ],
   "source": [
    "df1[\"Engine Fuel Type\"].unique()"
   ]
  },
  {
   "cell_type": "code",
   "execution_count": 31,
   "id": "8a0c3139",
   "metadata": {},
   "outputs": [
    {
     "data": {
      "text/plain": [
       "array([ 8,  9,  7,  4,  0,  1,  2,  6,  3,  5, 10])"
      ]
     },
     "execution_count": 31,
     "metadata": {},
     "output_type": "execute_result"
    }
   ],
   "source": [
    "df[\"Engine Fuel Type\"].unique()"
   ]
  },
  {
   "cell_type": "code",
   "execution_count": 32,
   "id": "ac4507cc",
   "metadata": {},
   "outputs": [
    {
     "data": {
      "text/plain": [
       "<seaborn.axisgrid.FacetGrid at 0x16a561117f0>"
      ]
     },
     "execution_count": 32,
     "metadata": {},
     "output_type": "execute_result"
    },
    {
     "data": {
      "text/plain": [
       "<Figure size 3000x800 with 0 Axes>"
      ]
     },
     "metadata": {},
     "output_type": "display_data"
    },
    {
     "data": {
      "image/png": "[encoded data removed]",
      "text/plain": [
       "<Figure size 500x500 with 1 Axes>"
      ]
     },
     "metadata": {},
     "output_type": "display_data"
    }
   ],
   "source": [
    "#engine fule type v/s MSRP\n",
    "plt.figure(figsize=(30,8))\n",
    "sns.set_theme(style=\"darkgrid\")\n",
    "sns.catplot(x=\"Engine Fuel Type\", y=\"MSRP\", kind=\"bar\", data=df)"
   ]
  },
  {
   "cell_type": "code",
   "execution_count": 33,
   "id": "0bc05d5b",
   "metadata": {},
   "outputs": [
    {
     "data": {
      "text/plain": [
       "array(['MANUAL', 'AUTOMATIC', 'AUTOMATED_MANUAL', 'DIRECT_DRIVE',\n",
       "       'UNKNOWN'], dtype=object)"
      ]
     },
     "execution_count": 33,
     "metadata": {},
     "output_type": "execute_result"
    }
   ],
   "source": [
    "df1[\"Transmission Type\"].unique()"
   ]
  },
  {
   "cell_type": "code",
   "execution_count": 34,
   "id": "354c312a",
   "metadata": {},
   "outputs": [
    {
     "data": {
      "text/plain": [
       "array([3, 1, 0, 2, 4])"
      ]
     },
     "execution_count": 34,
     "metadata": {},
     "output_type": "execute_result"
    }
   ],
   "source": [
    "df[\"Transmission Type\"].unique()"
   ]
  },
  {
   "cell_type": "code",
   "execution_count": 35,
   "id": "0faadeab",
   "metadata": {},
   "outputs": [
    {
     "data": {
      "text/plain": [
       "<seaborn.axisgrid.FacetGrid at 0x16a58018d00>"
      ]
     },
     "execution_count": 35,
     "metadata": {},
     "output_type": "execute_result"
    },
    {
     "data": {
      "text/plain": [
       "<Figure size 3000x800 with 0 Axes>"
      ]
     },
     "metadata": {},
     "output_type": "display_data"
    },
    {
     "data": {
      "image/png": "[encoded data removed]",
      "text/plain": [
       "<Figure size 500x500 with 1 Axes>"
      ]
     },
     "metadata": {},
     "output_type": "display_data"
    }
   ],
   "source": [
    "# transmission type v/s MSRP\n",
    "plt.figure(figsize=(30,8))\n",
    "sns.set_theme(style=\"darkgrid\")\n",
    "sns.catplot(x=\"Transmission Type\", y=\"MSRP\", kind=\"bar\", data=df)"
   ]
  },
  {
   "cell_type": "code",
   "execution_count": 36,
   "id": "12efa617",
   "metadata": {},
   "outputs": [
    {
     "data": {
      "text/plain": [
       "array(['Coupe', 'Convertible', 'Sedan', 'Wagon', '4dr Hatchback',\n",
       "       '2dr Hatchback', '4dr SUV', 'Passenger Minivan', 'Cargo Minivan',\n",
       "       'Crew Cab Pickup', 'Regular Cab Pickup', 'Extended Cab Pickup',\n",
       "       '2dr SUV', 'Cargo Van', 'Convertible SUV', 'Passenger Van'],\n",
       "      dtype=object)"
      ]
     },
     "execution_count": 36,
     "metadata": {},
     "output_type": "execute_result"
    }
   ],
   "source": [
    "df1[\"Vehicle Style\"].unique()"
   ]
  },
  {
   "cell_type": "code",
   "execution_count": 37,
   "id": "af0a74ee",
   "metadata": {},
   "outputs": [
    {
     "data": {
      "text/plain": [
       "array([ 8,  6, 14, 15,  2,  0,  3, 11,  4,  9, 13, 10,  1,  5,  7, 12])"
      ]
     },
     "execution_count": 37,
     "metadata": {},
     "output_type": "execute_result"
    }
   ],
   "source": [
    "df[\"Vehicle Style\"].unique()"
   ]
  },
  {
   "cell_type": "code",
   "execution_count": 38,
   "id": "6c70b9ee",
   "metadata": {},
   "outputs": [
    {
     "data": {
      "text/plain": [
       "<seaborn.axisgrid.FacetGrid at 0x16a55ecca60>"
      ]
     },
     "execution_count": 38,
     "metadata": {},
     "output_type": "execute_result"
    },
    {
     "data": {
      "image/png": "[encoded data removed]",
      "text/plain": [
       "<Figure size 500x500 with 1 Axes>"
      ]
     },
     "metadata": {},
     "output_type": "display_data"
    }
   ],
   "source": [
    "sns.catplot(x=\"Vehicle Style\", y=\"MSRP\", kind=\"bar\", data=df)"
   ]
  },
  {
   "cell_type": "code",
   "execution_count": 39,
   "id": "2b13d844",
   "metadata": {},
   "outputs": [],
   "source": [
    "#dropping the categorical column because it has more unique values\n",
    "df= df.drop(['Model'], axis=1)"
   ]
  },
  {
   "cell_type": "code",
   "execution_count": 40,
   "id": "ceb2e7d0",
   "metadata": {},
   "outputs": [],
   "source": [
    "#dropping other categorical column because it has more missing values\n",
    "df= df.drop(['Market Category'], axis=1)"
   ]
  },
  {
   "cell_type": "code",
   "execution_count": 41,
   "id": "cf4536e8",
   "metadata": {},
   "outputs": [
    {
     "data": {
      "text/html": [
       "<div>\n",
       "<style scoped>\n",
       "    .dataframe tbody tr th:only-of-type {\n",
       "        vertical-align: middle;\n",
       "    }\n",
       "\n",
       "    .dataframe tbody tr th {\n",
       "        vertical-align: top;\n",
       "    }\n",
       "\n",
       "    .dataframe thead th {\n",
       "        text-align: right;\n",
       "    }\n",
       "</style>\n",
       "<table border=\"1\" class=\"dataframe\">\n",
       "  <thead>\n",
       "    <tr style=\"text-align: right;\">\n",
       "      <th></th>\n",
       "      <th>Make</th>\n",
       "      <th>Year</th>\n",
       "      <th>Engine Fuel Type</th>\n",
       "      <th>Engine HP</th>\n",
       "      <th>Engine Cylinders</th>\n",
       "      <th>Transmission Type</th>\n",
       "      <th>Driven_Wheels</th>\n",
       "      <th>Number of Doors</th>\n",
       "      <th>Vehicle Size</th>\n",
       "      <th>Vehicle Style</th>\n",
       "      <th>highway MPG</th>\n",
       "      <th>city mpg</th>\n",
       "      <th>Popularity</th>\n",
       "      <th>MSRP</th>\n",
       "    </tr>\n",
       "  </thead>\n",
       "  <tbody>\n",
       "    <tr>\n",
       "      <th>0</th>\n",
       "      <td>4</td>\n",
       "      <td>2011</td>\n",
       "      <td>8</td>\n",
       "      <td>335.0</td>\n",
       "      <td>6.0</td>\n",
       "      <td>3</td>\n",
       "      <td>3</td>\n",
       "      <td>2.0</td>\n",
       "      <td>0</td>\n",
       "      <td>8</td>\n",
       "      <td>26</td>\n",
       "      <td>19</td>\n",
       "      <td>3916</td>\n",
       "      <td>46135</td>\n",
       "    </tr>\n",
       "    <tr>\n",
       "      <th>1</th>\n",
       "      <td>4</td>\n",
       "      <td>2011</td>\n",
       "      <td>8</td>\n",
       "      <td>300.0</td>\n",
       "      <td>6.0</td>\n",
       "      <td>3</td>\n",
       "      <td>3</td>\n",
       "      <td>2.0</td>\n",
       "      <td>0</td>\n",
       "      <td>6</td>\n",
       "      <td>28</td>\n",
       "      <td>19</td>\n",
       "      <td>3916</td>\n",
       "      <td>40650</td>\n",
       "    </tr>\n",
       "    <tr>\n",
       "      <th>2</th>\n",
       "      <td>4</td>\n",
       "      <td>2011</td>\n",
       "      <td>8</td>\n",
       "      <td>300.0</td>\n",
       "      <td>6.0</td>\n",
       "      <td>3</td>\n",
       "      <td>3</td>\n",
       "      <td>2.0</td>\n",
       "      <td>0</td>\n",
       "      <td>8</td>\n",
       "      <td>28</td>\n",
       "      <td>20</td>\n",
       "      <td>3916</td>\n",
       "      <td>36350</td>\n",
       "    </tr>\n",
       "    <tr>\n",
       "      <th>3</th>\n",
       "      <td>4</td>\n",
       "      <td>2011</td>\n",
       "      <td>8</td>\n",
       "      <td>230.0</td>\n",
       "      <td>6.0</td>\n",
       "      <td>3</td>\n",
       "      <td>3</td>\n",
       "      <td>2.0</td>\n",
       "      <td>0</td>\n",
       "      <td>8</td>\n",
       "      <td>28</td>\n",
       "      <td>18</td>\n",
       "      <td>3916</td>\n",
       "      <td>29450</td>\n",
       "    </tr>\n",
       "    <tr>\n",
       "      <th>4</th>\n",
       "      <td>4</td>\n",
       "      <td>2011</td>\n",
       "      <td>8</td>\n",
       "      <td>230.0</td>\n",
       "      <td>6.0</td>\n",
       "      <td>3</td>\n",
       "      <td>3</td>\n",
       "      <td>2.0</td>\n",
       "      <td>0</td>\n",
       "      <td>6</td>\n",
       "      <td>28</td>\n",
       "      <td>18</td>\n",
       "      <td>3916</td>\n",
       "      <td>34500</td>\n",
       "    </tr>\n",
       "  </tbody>\n",
       "</table>\n",
       "</div>"
      ],
      "text/plain": [
       "   Make  Year  Engine Fuel Type  Engine HP  Engine Cylinders  \\\n",
       "0     4  2011                 8      335.0               6.0   \n",
       "1     4  2011                 8      300.0               6.0   \n",
       "2     4  2011                 8      300.0               6.0   \n",
       "3     4  2011                 8      230.0               6.0   \n",
       "4     4  2011                 8      230.0               6.0   \n",
       "\n",
       "   Transmission Type  Driven_Wheels  Number of Doors  Vehicle Size  \\\n",
       "0                  3              3              2.0             0   \n",
       "1                  3              3              2.0             0   \n",
       "2                  3              3              2.0             0   \n",
       "3                  3              3              2.0             0   \n",
       "4                  3              3              2.0             0   \n",
       "\n",
       "   Vehicle Style  highway MPG  city mpg  Popularity   MSRP  \n",
       "0              8           26        19        3916  46135  \n",
       "1              6           28        19        3916  40650  \n",
       "2              8           28        20        3916  36350  \n",
       "3              8           28        18        3916  29450  \n",
       "4              6           28        18        3916  34500  "
      ]
     },
     "execution_count": 41,
     "metadata": {},
     "output_type": "execute_result"
    }
   ],
   "source": [
    "df.head(5)"
   ]
  },
  {
   "cell_type": "markdown",
   "id": "b5350e36",
   "metadata": {},
   "source": [
    "importing necessary libraries to build model"
   ]
  },
  {
   "cell_type": "code",
   "execution_count": 42,
   "id": "6f8de0c4",
   "metadata": {},
   "outputs": [],
   "source": [
    "#import necessary libraries\n",
    "from sklearn.tree import DecisionTreeRegressor\n",
    "from sklearn.feature_selection import SelectKBest, f_regression\n",
    "from sklearn.model_selection import train_test_split\n",
    "from sklearn.metrics import r2_score"
   ]
  },
  {
   "cell_type": "code",
   "execution_count": 43,
   "id": "7cb69c18",
   "metadata": {},
   "outputs": [],
   "source": [
    "# dropping the target variable\n",
    "X = df.drop('MSRP', axis=1)\n",
    "y = df['MSRP']"
   ]
  },
  {
   "cell_type": "code",
   "execution_count": 44,
   "id": "2005fbfd",
   "metadata": {},
   "outputs": [],
   "source": [
    "#feature selection to decide root nodes and interior nodes\n",
    "f_selector = SelectKBest(f_regression, k=13)\n",
    "X_kbest = f_selector.fit_transform(X, y)"
   ]
  },
  {
   "cell_type": "code",
   "execution_count": 45,
   "id": "adee4889",
   "metadata": {},
   "outputs": [],
   "source": [
    "#train test split\n",
    "X_train, X_test, y_train, y_test = train_test_split(X_kbest, y, test_size=0.30)"
   ]
  },
  {
   "cell_type": "markdown",
   "id": "6cd6a574",
   "metadata": {},
   "source": [
    "to find maximum depth of tree"
   ]
  },
  {
   "cell_type": "code",
   "execution_count": 46,
   "id": "eb9a69fe",
   "metadata": {},
   "outputs": [
    {
     "name": "stdout",
     "output_type": "stream",
     "text": [
      "For max depth =  1  :  0.3632895246364364\n",
      "For max depth =  2  :  0.6848908938429458\n",
      "For max depth =  3  :  0.7374754567769433\n",
      "For max depth =  4  :  0.8103892484175546\n",
      "For max depth =  5  :  0.83716962639932\n",
      "For max depth =  6  :  0.8318840112554727\n",
      "For max depth =  7  :  0.9271015366025676\n",
      "For max depth =  8  :  0.9291737151244076\n",
      "For max depth =  9  :  0.9319054150259215\n",
      "For max depth =  10  :  0.9300938442797186\n",
      "For max depth =  11  :  0.9234101165097643\n",
      "For max depth =  12  :  0.9225536547418705\n",
      "For max depth =  13  :  0.9290050417346055\n",
      "For max depth =  14  :  0.9390800059947695\n",
      "For max depth =  15  :  0.8616736728357828\n",
      "For max depth =  16  :  0.8645452325845511\n",
      "For max depth =  17  :  0.9313820257083689\n",
      "For max depth =  18  :  0.8571959874546111\n",
      "For max depth =  19  :  0.9400472660397537\n"
     ]
    }
   ],
   "source": [
    "depth = [];\n",
    "for i in range(1,20):\n",
    "    dt_reg = DecisionTreeRegressor(max_features=f_selector.get_support().sum(), random_state=1, max_depth = i)\n",
    "    dt_reg.fit(X_train, y_train)\n",
    "    y_pred = dt_reg.predict(X_test)\n",
    "    depth.append(r2_score(y_test,y_pred))\n",
    "    print(\"For max depth = \",i, \" : \",r2_score(y_test,y_pred))"
   ]
  },
  {
   "cell_type": "code",
   "execution_count": 47,
   "id": "49a3f05e",
   "metadata": {},
   "outputs": [
    {
     "data": {
      "image/png": "[encoded data removed]",
      "text/plain": [
       "<Figure size 2000x1000 with 1 Axes>"
      ]
     },
     "metadata": {},
     "output_type": "display_data"
    }
   ],
   "source": [
    "# finding best max depth\n",
    "plt.figure(figsize=(20,10))\n",
    "plt.plot(range(1,20),depth,color=\"blue\", marker = \"x\")\n",
    "plt.xlabel(\"Depth of Tree\")\n",
    "plt.ylabel(\"R2 Score\")\n",
    "plt.title(\"Finding the right depth with highest r2\")\n",
    "plt.xticks(range(1,20))\n",
    "plt.show()"
   ]
  },
  {
   "cell_type": "code",
   "execution_count": 48,
   "id": "c037a00a",
   "metadata": {},
   "outputs": [
    {
     "name": "stdout",
     "output_type": "stream",
     "text": [
      "r2 score: 0.9319054150259215\n"
     ]
    }
   ],
   "source": [
    "#max_depth\n",
    "dt_reg = DecisionTreeRegressor(max_features=f_selector.get_support().sum(), random_state=1, max_depth = 9)\n",
    "dt_reg.fit(X_train, y_train)\n",
    "y_pred = dt_reg.predict(X_test)\n",
    "print('r2 score:',r2_score(y_test,y_pred))"
   ]
  },
  {
   "cell_type": "code",
   "execution_count": 49,
   "id": "832d22c8",
   "metadata": {},
   "outputs": [
    {
     "data": {
      "text/plain": [
       "array([5.75748133e-03, 5.55909213e-02, 6.75133776e-03, 2.51410378e-01,\n",
       "       5.45453684e-01, 7.42354058e-03, 6.74295472e-05, 5.15213120e-03,\n",
       "       6.02317439e-03, 1.93104655e-02, 1.27389730e-02, 3.04298643e-02,\n",
       "       5.38906195e-02])"
      ]
     },
     "execution_count": 49,
     "metadata": {},
     "output_type": "execute_result"
    }
   ],
   "source": [
    "# Checking feature importance in the model\n",
    "dt_reg.feature_importances_"
   ]
  },
  {
   "cell_type": "code",
   "execution_count": 50,
   "id": "4ab0c4a5",
   "metadata": {},
   "outputs": [
    {
     "data": {
      "text/plain": [
       "<AxesSubplot:>"
      ]
     },
     "execution_count": 50,
     "metadata": {},
     "output_type": "execute_result"
    },
    {
     "data": {
      "image/png": "[encoded data removed]",
      "text/plain": [
       "<Figure size 640x480 with 1 Axes>"
      ]
     },
     "metadata": {},
     "output_type": "display_data"
    }
   ],
   "source": [
    "# Visualizing feature importance\n",
    "(pd.Series(dt_reg.feature_importances_, index=X.columns).plot(kind='barh'))"
   ]
  }
 ],
 "metadata": {
  "kernelspec": {
   "display_name": "Python 3 (ipykernel)",
   "language": "python",
   "name": "python3"
  },
  "language_info": {
   "codemirror_mode": {
    "name": "ipython",
    "version": 3
   },
   "file_extension": ".py",
   "mimetype": "text/x-python",
   "name": "python",
   "nbconvert_exporter": "python",
   "pygments_lexer": "ipython3",
   "version": "3.9.13"
  }
 },
 "nbformat": 4,
 "nbformat_minor": 5
}
